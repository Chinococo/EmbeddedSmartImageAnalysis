{
 "cells": [
  {
   "cell_type": "code",
   "execution_count": 9,
   "id": "stunning-greece",
   "metadata": {},
   "outputs": [
    {
     "name": "stdout",
     "output_type": "stream",
     "text": [
      "Requirement already satisfied: transforms in /usr/local/lib/python3.6/dist-packages\n",
      "Requirement already satisfied: sgmllib3k in /usr/local/lib/python3.6/dist-packages\n",
      "unzip:  cannot find or open output.zip, output.zip.zip or output.zip.ZIP.\n"
     ]
    }
   ],
   "source": [
    "!pip3 install transforms\n",
    "!pip3 install sgmllib3k\n",
    "#!unrar x dataset_xy.rar\n",
    "!unzip output.zip"
   ]
  },
  {
   "cell_type": "code",
   "execution_count": 1,
   "id": "worst-audio",
   "metadata": {},
   "outputs": [],
   "source": [
    "import torch\n",
    "import torch.optim as optim\n",
    "import torch.nn.functional as F\n",
    "import torchvision\n",
    "import torchvision.datasets as datasets\n",
    "import torchvision.models as models\n",
    "import torchvision.transforms as transforms\n",
    "import glob\n",
    "import PIL.Image\n",
    "import os\n",
    "import numpy as np\n",
    "# IPython Libraries for display and widgets\n",
    "import traitlets\n",
    "import ipywidgets.widgets as widgets\n",
    "from IPython.display import display\n",
    "\n",
    "# Camera and Motor Interface for JetBot\n",
    "from jetbot import Robot, Camera, bgr8_to_jpeg\n",
    "\n",
    "# Basic Python packages for image annotation\n",
    "from uuid import uuid1\n",
    "import os\n",
    "import json\n",
    "import glob\n",
    "import datetime\n",
    "import numpy as np\n",
    "import cv2\n",
    "import time\n",
    "import torch\n",
    "import torch.optim as optim\n",
    "import torch.nn.functional as F\n",
    "import torchvision\n",
    "import torchvision.datasets as datasets\n",
    "import torchvision.models as models\n",
    "from torch.utils.data import DataLoader\n",
    "\n",
    "import torchvision.transforms as transforms\n",
    "import glob\n",
    "import PIL.Image\n",
    "import os\n",
    "import numpy as np\n",
    "import torch.nn.functional as F\n",
    "import torch\n",
    "import torch.optim as optim\n",
    "import torch.nn.functional as F\n",
    "import torchvision\n",
    "import torchvision.datasets as datasets\n",
    "import torchvision.models as models\n",
    "import torchvision.transforms as transforms\n",
    "import glob\n",
    "import PIL.Image\n",
    "import os\n",
    "import numpy as np\n",
    "import torch.nn as nn\n",
    "import ipywidgets as widgets\n",
    "from IPython.display import display\n",
    "import csv\n",
    "import ipywidgets as widgets\n",
    "from jetbot import Robot\n",
    "import numpy as np\n",
    "from datetime import datetime\n",
    "from jetbot import Camera, bgr8_to_jpeg\n",
    "import torch\n",
    "import cv2\n",
    "import traitlets\n",
    "import numpy as np\n",
    "from jetbot import Camera, bgr8_to_jpeg\n",
    "from torchvision import models, transforms\n",
    "from ipywidgets import widgets\n",
    "from IPython.display import display\n",
    "import time\n",
    "import torch\n",
    "import cv2\n",
    "import traitlets\n",
    "import numpy as np\n",
    "from jetbot import Camera, bgr8_to_jpeg\n",
    "from torchvision import models, transforms\n",
    "from ipywidgets import widgets\n",
    "from IPython.display import display\n",
    "import time\n",
    "import ipywidgets"
   ]
  },
  {
   "cell_type": "code",
   "execution_count": 10,
   "id": "gorgeous-ceremony",
   "metadata": {},
   "outputs": [
    {
     "data": {
      "application/vnd.jupyter.widget-view+json": {
       "model_id": "0e814bf650f14cc288b55be32c2d9874",
       "version_major": 2,
       "version_minor": 0
      },
      "text/plain": [
       "HBox(children=(Image(value=b'', format='jpeg', height='224', width='224'),))"
      ]
     },
     "metadata": {},
     "output_type": "display_data"
    },
    {
     "data": {
      "text/plain": [
       "<traitlets.traitlets.directional_link at 0x7f8864ddd8>"
      ]
     },
     "execution_count": 10,
     "metadata": {},
     "output_type": "execute_result"
    }
   ],
   "source": [
    "# 初始化相機\n",
    "camera = Camera.instance(width=224, height=224,fps=10)\n",
    "\n",
    "# 設定 widget 大小\n",
    "widget_width = 224\n",
    "widget_height = 224\n",
    "\n",
    "# 建立顯示影像的 widget 和 x, y 控制滑桿\n",
    "image_widget = widgets.Image(format='jpeg', width=widget_width, height=widget_height)\n",
    "#target_widget = widgets.Image(format='jpeg', width=widget_width, height=widget_height)\n",
    "#x_slider = widgets.FloatSlider(min=-1.0, max=1.0, step=0.001, description='x')\n",
    "#y_slider = widgets.FloatSlider(min=-1.0, max=1.0, step=0.001, description='y')\n",
    "\n",
    "# 顯示 widget\n",
    "display(widgets.HBox([image_widget]))\n",
    "\n",
    "# 啟動相機影像的即時處理和推論\n",
    "time.sleep(1)  # 確保相機啟動完成\n",
    "traitlets.dlink((camera, 'value'), (image_widget, 'value'), transform=bgr8_to_jpeg)\n",
    "#traitlets.dlink((camera, 'value'), (target_widget, 'value'), transform=process_and_predict)\n"
   ]
  },
  {
   "cell_type": "code",
   "execution_count": 9,
   "id": "collective-bermuda",
   "metadata": {},
   "outputs": [],
   "source": [
    "camera.stop()"
   ]
  },
  {
   "cell_type": "code",
   "execution_count": 3,
   "id": "directed-sheriff",
   "metadata": {},
   "outputs": [
    {
     "data": {
      "application/vnd.jupyter.widget-view+json": {
       "model_id": "4c52f1d957714d82a3104c7b260f7616",
       "version_major": 2,
       "version_minor": 0
      },
      "text/plain": [
       "FloatSlider(value=0.0, description='speed gain', max=1.0, step=0.01)"
      ]
     },
     "metadata": {},
     "output_type": "display_data"
    },
    {
     "data": {
      "application/vnd.jupyter.widget-view+json": {
       "model_id": "bbd3eddbc5b849079cc9fbf7ef3fe9b0",
       "version_major": 2,
       "version_minor": 0
      },
      "text/plain": [
       "FloatSlider(value=0.1, description='steering gain', max=1.0, step=0.01)"
      ]
     },
     "metadata": {},
     "output_type": "display_data"
    },
    {
     "data": {
      "application/vnd.jupyter.widget-view+json": {
       "model_id": "6749353ba5194d5f8a9d2359437fa061",
       "version_major": 2,
       "version_minor": 0
      },
      "text/plain": [
       "FloatSlider(value=0.02, description='steering kd', max=0.5, step=0.001)"
      ]
     },
     "metadata": {},
     "output_type": "display_data"
    },
    {
     "data": {
      "application/vnd.jupyter.widget-view+json": {
       "model_id": "1fddfdae8769456e8be3a50ecbbdb22e",
       "version_major": 2,
       "version_minor": 0
      },
      "text/plain": [
       "FloatSlider(value=0.0, description='steering bias left', max=0.3, min=-0.3, step=0.01)"
      ]
     },
     "metadata": {},
     "output_type": "display_data"
    },
    {
     "data": {
      "application/vnd.jupyter.widget-view+json": {
       "model_id": "8dd6fc12d8b845f5ae8712a84668d11c",
       "version_major": 2,
       "version_minor": 0
      },
      "text/plain": [
       "FloatSlider(value=0.0, description='steering bias right', max=0.3, min=-0.3, step=0.01)"
      ]
     },
     "metadata": {},
     "output_type": "display_data"
    },
    {
     "data": {
      "application/vnd.jupyter.widget-view+json": {
       "model_id": "94883b14aa414a3ebf45616b4a05d52f",
       "version_major": 2,
       "version_minor": 0
      },
      "text/plain": [
       "FloatSlider(value=0.0, description='Steering I Gain', max=1.0, step=0.01)"
      ]
     },
     "metadata": {},
     "output_type": "display_data"
    }
   ],
   "source": [
    "speed_gain_slider = ipywidgets.FloatSlider(min=0.0, max=1.0, step=0.01, description='speed gain')\n",
    "steering_gain_slider = ipywidgets.FloatSlider(min=0.0, max=1.0, step=0.01, value=0.1, description='steering gain')\n",
    "steering_dgain_slider = ipywidgets.FloatSlider(min=0.0, max=0.5, step=0.001, value=0.02, description='steering kd')\n",
    "steering_left_bias_slider = ipywidgets.FloatSlider(min=-0.3, max=0.3, step=0.01, value=0.0, description='steering bias left')\n",
    "steering_right_bias_slider = ipywidgets.FloatSlider(min=-0.3, max=0.3, step=0.01, value=0.0, description='steering bias right')\n",
    "steering_igain_slider = widgets.FloatSlider(\n",
    "    min=0.0, max=1.0, step=0.01, value=0.00, description='Steering I Gain'\n",
    ")\n",
    "display(speed_gain_slider, steering_gain_slider, steering_dgain_slider, steering_left_bias_slider,steering_right_bias_slider,steering_igain_slider)"
   ]
  },
  {
   "cell_type": "code",
   "execution_count": 4,
   "id": "legendary-museum",
   "metadata": {},
   "outputs": [
    {
     "data": {
      "application/vnd.jupyter.widget-view+json": {
       "model_id": "28bc899f741348518d72a86795e09e57",
       "version_major": 2,
       "version_minor": 0
      },
      "text/plain": [
       "HBox(children=(FloatSlider(value=0.0, description='y', max=1.0, orientation='vertical'), FloatSlider(value=0.0…"
      ]
     },
     "metadata": {},
     "output_type": "display_data"
    },
    {
     "data": {
      "application/vnd.jupyter.widget-view+json": {
       "model_id": "aa0a251584fe4443abf130ff7b820f6d",
       "version_major": 2,
       "version_minor": 0
      },
      "text/plain": [
       "FloatSlider(value=0.0, description='x', max=1.0, min=-1.0)"
      ]
     },
     "metadata": {},
     "output_type": "display_data"
    },
    {
     "data": {
      "application/vnd.jupyter.widget-view+json": {
       "model_id": "b82e66f939d649b19cbd4ee88efdb807",
       "version_major": 2,
       "version_minor": 0
      },
      "text/plain": [
       "FloatSlider(value=0.0, description='steering', max=1.0, min=-1.0, step=0.01)"
      ]
     },
     "metadata": {},
     "output_type": "display_data"
    }
   ],
   "source": [
    "x_slider = ipywidgets.FloatSlider(min=-1.0, max=1.0, description='x')\n",
    "y_slider = ipywidgets.FloatSlider(min=0, max=1.0, orientation='vertical', description='y')\n",
    "steering_slider = ipywidgets.FloatSlider(min=-1.0, max=1.0, step=0.01 ,description='steering')\n",
    "speed_slider = ipywidgets.FloatSlider(min=0, max=1.0, step=0.01, orientation='vertical', description='speed')\n",
    "display(ipywidgets.HBox([y_slider, speed_slider]))\n",
    "display(x_slider, steering_slider)"
   ]
  },
  {
   "cell_type": "code",
   "execution_count": 7,
   "id": "shaped-standing",
   "metadata": {
    "scrolled": true
   },
   "outputs": [
    {
     "name": "stdout",
     "output_type": "stream",
     "text": [
      "cuda\n"
     ]
    },
    {
     "data": {
      "application/vnd.jupyter.widget-view+json": {
       "model_id": "5a91a9099cf5487693daeea90f46769d",
       "version_major": 2,
       "version_minor": 0
      },
      "text/plain": [
       "FloatSlider(value=0.0, description='Left Motor', max=1.0, min=-1.0, step=0.01)"
      ]
     },
     "metadata": {},
     "output_type": "display_data"
    },
    {
     "data": {
      "application/vnd.jupyter.widget-view+json": {
       "model_id": "144fd983c62a4b07af28c90718e429de",
       "version_major": 2,
       "version_minor": 0
      },
      "text/plain": [
       "FloatSlider(value=0.0, description='Right Motor', max=1.0, min=-1.0, step=0.01)"
      ]
     },
     "metadata": {},
     "output_type": "display_data"
    },
    {
     "data": {
      "application/vnd.jupyter.widget-view+json": {
       "model_id": "1dd342f4c73d4e7da3d7ec0ab2fcd9ff",
       "version_major": 2,
       "version_minor": 0
      },
      "text/plain": [
       "FloatSlider(value=0.0, description='Angle', max=3.141592653589793, min=-3.141592653589793, step=0.01)"
      ]
     },
     "metadata": {},
     "output_type": "display_data"
    },
    {
     "name": "stdout",
     "output_type": "stream",
     "text": [
      "0.05966461 0.6565228\n",
      "Execution time: 14.5550 seconds\n"
     ]
    }
   ],
   "source": [
    "from PIL import Image\n",
    "import torch\n",
    "import torchvision.transforms as transforms\n",
    "from torchvision import models\n",
    "import torch.nn as nn\n",
    "import time\n",
    "import numpy as np\n",
    "# 設定裝置 (若有 GPU 可用)\n",
    "device = torch.device(\"cuda\" if torch.cuda.is_available() else \"cpu\")\n",
    "print(device)\n",
    "\n",
    "# 加載模型\n",
    "model = models.resnet18()\n",
    "model.fc = nn.Linear(model.fc.in_features, 2)\n",
    "model.load_state_dict(torch.load(\"resnet18_1600_v4.pth\"))\n",
    "model = model.to(device)\n",
    "model.eval()  # 將模型設定為推論模式\n",
    "transform = transforms.Compose([\n",
    "        transforms.ToTensor(),\n",
    "        transforms.Normalize([0.4691, 0.4032, 0.4579], [0.1740, 0.1485, 0.1688])\n",
    "    ])\n",
    "\n",
    "\n",
    "# 初始化機器人和滑桿\n",
    "robot = Robot()\n",
    "robot.motor_driver._pwm.setPWMFreq(100)\n",
    "angle = 0.0\n",
    "angle_last = 0.0\n",
    "integral = 0.0  # 初始化積分項\n",
    "left_motor_slider = widgets.FloatSlider(min=-1.0, max=1.0, step=0.01, description='Left Motor')\n",
    "right_motor_slider = widgets.FloatSlider(min=-1.0, max=1.0, step=0.01, description='Right Motor')\n",
    "angle_slider = widgets.FloatSlider(min=-np.pi, max=np.pi, step=0.01, description='Angle')\n",
    "display(left_motor_slider, right_motor_slider, angle_slider)\n",
    "\n",
    "def execute(change):\n",
    "    import time\n",
    "    start_time = time.time()  # 開始計時\n",
    "    global angle, angle_last, integral\n",
    "    image = change['new']\n",
    "    height = image.shape[0]\n",
    "    cropped_image = image[int(height * 0.4):, :, :]  # 保持為 NumPy 陣列\n",
    "    input_tensor = transform(cropped_image).unsqueeze(0).to(device)  # 先轉換後再傳入裝置\n",
    "    with torch.no_grad():\n",
    "        output = model(input_tensor)\n",
    "        x, y = output[0].cpu().numpy()\n",
    "    x_slider.value = x\n",
    "    y_slider.value = y\n",
    "    print(x,y)\n",
    "    speed_slider.value = speed_gain_slider.value\n",
    "    \n",
    "    # 計算角度，更新 PID 項\n",
    "    angle = np.arctan2(x, y)\n",
    "    angle_slider.value = angle  # 更新角度滑桿值\n",
    "\n",
    "    # 更新積分項\n",
    "    integral += angle\n",
    "    \n",
    "    # 計算 PID 控制值\n",
    "    pid = (\n",
    "        angle * steering_gain_slider.value  # P 項\n",
    "        + (angle - angle_last) * steering_dgain_slider.value  # D 項\n",
    "        + integral * steering_igain_slider.value  # I 項\n",
    "    )\n",
    "    \n",
    "    angle_last = angle  # 更新上一個角度\n",
    "\n",
    "    if angle < 0:\n",
    "        steering_slider.value = pid + steering_left_bias_slider.value  # 如果 angle < 0，添加偏置\n",
    "    else:\n",
    "        steering_slider.value = pid + steering_right_bias_slider.value  # 如果 angle >= 0，減去偏置\n",
    "    \n",
    "    # 計算馬達值\n",
    "    right_motor_value = -max(min(speed_slider.value - steering_slider.value, 1.0), 0.0)\n",
    "    left_motor_value = -max(min(speed_slider.value + steering_slider.value, 1.0), 0.0)\n",
    "    left_motor_slider.value = left_motor_value\n",
    "    right_motor_slider.value = right_motor_value\n",
    "    \n",
    "    # 設置機器人馬達值\n",
    "    robot.left_motor.value = left_motor_value\n",
    "    robot.right_motor.value = right_motor_value\n",
    "    \n",
    "    end_time = time.time()  # 結束計時\n",
    "    execution_time = end_time - start_time  # 計算間隔時間\n",
    "    print(f'Execution time: {execution_time:.4f} seconds')\n",
    "\n",
    "execute({'new': camera.value})\n"
   ]
  },
  {
   "cell_type": "code",
   "execution_count": 14,
   "id": "welcome-balance",
   "metadata": {
    "scrolled": true
   },
   "outputs": [
    {
     "name": "stdout",
     "output_type": "stream",
     "text": [
      "0.10221164 0.6089395\n",
      "Execution time: 0.1248 seconds\n",
      "0.10231005 0.605437\n",
      "Execution time: 0.0681 seconds\n",
      "0.099977866 0.59357464\n",
      "Execution time: 0.0613 seconds\n",
      "0.07294102 0.590356\n",
      "Execution time: 0.0689 seconds\n",
      "0.017889071 0.5726925\n",
      "Execution time: 0.0623 seconds\n",
      "-0.01538033 0.586447\n",
      "Execution time: 0.0723 seconds\n",
      "-0.0029009245 0.58408034\n",
      "Execution time: 0.0794 seconds\n",
      "0.018099468 0.58631897\n",
      "Execution time: 0.0620 seconds\n",
      "0.06299098 0.6027732\n",
      "Execution time: 0.0615 seconds\n",
      "0.06938474 0.60758376\n",
      "Execution time: 0.0626 seconds\n",
      "0.095191225 0.6096192\n",
      "Execution time: 0.0626 seconds\n",
      "0.11613761 0.60797244\n",
      "Execution time: 0.0604 seconds\n",
      "0.12757659 0.6215714\n",
      "Execution time: 0.0613 seconds\n",
      "0.119889304 0.60859275\n",
      "Execution time: 0.0610 seconds\n",
      "0.08518423 0.60590696\n",
      "Execution time: 0.0611 seconds\n",
      "0.051229622 0.6249286\n",
      "Execution time: 0.0615 seconds\n",
      "0.020441424 0.64501226\n",
      "Execution time: 0.0604 seconds\n",
      "0.019118737 0.6442473\n",
      "Execution time: 0.0635 seconds\n",
      "0.029049221 0.6511509\n",
      "Execution time: 0.0647 seconds\n",
      "0.040320534 0.65268975\n",
      "Execution time: 0.0987 seconds\n",
      "0.058652382 0.6568188\n",
      "Execution time: 0.0619 seconds\n",
      "0.0697989 0.65064394\n",
      "Execution time: 0.0614 seconds\n",
      "0.07598984 0.6497053\n",
      "Execution time: 0.0624 seconds\n",
      "0.0945752 0.64541566\n",
      "Execution time: 0.0620 seconds\n",
      "0.087704 0.6622789\n",
      "Execution time: 0.0605 seconds\n",
      "0.08590409 0.67195046\n",
      "Execution time: 0.0629 seconds\n",
      "0.0810764 0.66973513\n",
      "Execution time: 0.0622 seconds\n",
      "0.058397617 0.66069096\n",
      "Execution time: 0.0620 seconds\n",
      "0.05492642 0.6638883\n",
      "Execution time: 0.0611 seconds\n",
      "0.041895416 0.6763247\n",
      "Execution time: 0.0642 seconds\n",
      "0.0083247945 0.69729495\n",
      "Execution time: 0.0700 seconds\n",
      "0.00847099 0.7042162\n",
      "Execution time: 0.0603 seconds\n",
      "-0.014563914 0.73516446\n",
      "Execution time: 0.0700 seconds\n",
      "-0.038358644 0.74488574\n",
      "Execution time: 0.1165 seconds\n",
      "-0.026445787 0.7457251\n",
      "Execution time: 0.0628 seconds\n",
      "-0.20078866 0.7635505\n",
      "Execution time: 0.0616 seconds\n",
      "-0.30383936 0.7915006\n",
      "Execution time: 0.0619 seconds\n",
      "-0.48970562 0.78053606\n",
      "Execution time: 0.0675 seconds\n",
      "-0.6387206 0.8033125\n",
      "Execution time: 0.0599 seconds\n",
      "-0.57676804 0.81533056\n",
      "Execution time: 0.0631 seconds\n",
      "-0.41716933 0.83550155\n",
      "Execution time: 0.0637 seconds\n",
      "-0.52838385 0.7503274\n",
      "Execution time: 0.0604 seconds\n",
      "-0.4186754 0.72869986\n",
      "Execution time: 0.0625 seconds\n",
      "-0.33345452 0.69227654\n",
      "Execution time: 0.0631 seconds\n",
      "-0.37091523 0.7171346\n",
      "Execution time: 0.0620 seconds\n",
      "-0.46394342 0.7589983\n",
      "Execution time: 0.0636 seconds\n",
      "-0.508415 0.7503589\n",
      "Execution time: 0.0686 seconds\n",
      "-0.56081986 0.7392704\n",
      "Execution time: 0.0984 seconds\n",
      "-0.47428027 0.7216453\n",
      "Execution time: 0.0620 seconds\n",
      "-0.5417108 0.7178916\n",
      "Execution time: 0.0633 seconds\n",
      "-0.4693953 0.6422022\n",
      "Execution time: 0.0638 seconds\n",
      "-0.37423754 0.59058726\n",
      "Execution time: 0.0616 seconds\n",
      "-0.25743556 0.53269285\n",
      "Execution time: 0.0639 seconds\n",
      "-0.11163509 0.55944943\n",
      "Execution time: 0.0646 seconds\n",
      "0.07303344 0.53608286\n",
      "Execution time: 0.0607 seconds\n",
      "0.21418588 0.55560875\n",
      "Execution time: 0.0605 seconds\n",
      "0.317902 0.5652315\n",
      "Execution time: 0.0623 seconds\n",
      "0.32009125 0.55216885\n",
      "Execution time: 0.0643 seconds\n",
      "0.25228113 0.55833006\n",
      "Execution time: 0.0666 seconds\n",
      "0.18751092 0.5432598\n",
      "Execution time: 0.0637 seconds\n",
      "0.112838045 0.49895266\n",
      "Execution time: 0.0727 seconds\n",
      "-0.015669238 0.49767464\n",
      "Execution time: 0.0654 seconds\n",
      "-0.07432355 0.49866962\n",
      "Execution time: 0.0638 seconds\n",
      "-0.09954493 0.52132004\n",
      "Execution time: 0.0632 seconds\n",
      "-0.0646193 0.53100926\n",
      "Execution time: 0.0627 seconds\n",
      "-0.01720323 0.54632586\n",
      "Execution time: 0.0634 seconds\n",
      "0.04660244 0.53735346\n",
      "Execution time: 0.0618 seconds\n",
      "0.088701695 0.5493512\n",
      "Execution time: 0.0640 seconds\n",
      "0.12592995 0.55847937\n",
      "Execution time: 0.0615 seconds\n",
      "0.12238257 0.5689849\n",
      "Execution time: 0.0631 seconds\n",
      "0.076104134 0.56480616\n",
      "Execution time: 0.0627 seconds\n",
      "0.042120617 0.5706732\n",
      "Execution time: 0.0644 seconds\n",
      "-0.006681349 0.575686\n",
      "Execution time: 0.0628 seconds\n",
      "-0.071253866 0.5412393\n",
      "Execution time: 0.0638 seconds\n",
      "-0.08793014 0.5442984\n",
      "Execution time: 0.1261 seconds\n",
      "-0.09708001 0.5675745\n",
      "Execution time: 0.0653 seconds\n",
      "-0.088930294 0.60236686\n",
      "Execution time: 0.0607 seconds\n",
      "-0.071313694 0.63222736\n",
      "Execution time: 0.0615 seconds\n",
      "-0.030875914 0.6502943\n",
      "Execution time: 0.0643 seconds\n",
      "-0.015859138 0.63860065\n",
      "Execution time: 0.0686 seconds\n",
      "-0.060633358 0.6625734\n",
      "Execution time: 0.0615 seconds\n",
      "-0.1544906 0.6899558\n",
      "Execution time: 0.0642 seconds\n",
      "-0.17235821 0.70236427\n",
      "Execution time: 0.0625 seconds\n",
      "-0.2943208 0.73235965\n",
      "Execution time: 0.0616 seconds\n",
      "-0.3565739 0.72093725\n",
      "Execution time: 0.0637 seconds\n",
      "-0.33620995 0.7229606\n",
      "Execution time: 0.0651 seconds\n",
      "-0.26990873 0.74455917\n",
      "Execution time: 0.0617 seconds\n",
      "-0.3391394 0.74175715\n",
      "Execution time: 0.0733 seconds\n",
      "-0.3416805 0.7216415\n",
      "Execution time: 0.1018 seconds\n",
      "-0.35984758 0.7433428\n",
      "Execution time: 0.0635 seconds\n",
      "-0.3604816 0.7410463\n",
      "Execution time: 0.0617 seconds\n",
      "-0.35759643 0.7439479\n",
      "Execution time: 0.0628 seconds\n",
      "-0.3610919 0.74434763\n",
      "Execution time: 0.0641 seconds\n",
      "-0.36459512 0.74027973\n",
      "Execution time: 0.0641 seconds\n",
      "-0.36089864 0.74049336\n",
      "Execution time: 0.0625 seconds\n",
      "-0.35626662 0.73804486\n",
      "Execution time: 0.0608 seconds\n",
      "-0.36132157 0.7384807\n",
      "Execution time: 0.0619 seconds\n",
      "-0.34545425 0.73970616\n",
      "Execution time: 0.0612 seconds\n",
      "-0.35439974 0.7426631\n",
      "Execution time: 0.0614 seconds\n",
      "-0.34565586 0.74120504\n",
      "Execution time: 0.0665 seconds\n",
      "-0.3488057 0.7441345\n",
      "Execution time: 0.0627 seconds\n",
      "-0.35629305 0.7445908\n",
      "Execution time: 0.0728 seconds\n",
      "-0.35222673 0.74840564\n",
      "Execution time: 0.0733 seconds\n",
      "-0.35212985 0.75391805\n",
      "Execution time: 0.0646 seconds\n",
      "-0.35538182 0.7495039\n",
      "Execution time: 0.0619 seconds\n",
      "-0.35286513 0.7544136\n",
      "Execution time: 0.0619 seconds\n",
      "-0.35938218 0.7562168\n",
      "Execution time: 0.0630 seconds\n",
      "-0.354491 0.75749296\n",
      "Execution time: 0.0604 seconds\n",
      "-0.37206694 0.75478876\n",
      "Execution time: 0.0622 seconds\n",
      "-0.38197136 0.7487858\n",
      "Execution time: 0.0623 seconds\n",
      "-0.36204287 0.7482874\n",
      "Execution time: 0.0627 seconds\n",
      "-0.35423496 0.74774873\n",
      "Execution time: 0.0619 seconds\n",
      "-0.35925996 0.7497836\n",
      "Execution time: 0.0633 seconds\n",
      "-0.34867397 0.75288177\n",
      "Execution time: 0.0620 seconds\n",
      "-0.36452746 0.75763965\n",
      "Execution time: 0.0659 seconds\n",
      "-0.35916892 0.7516145\n",
      "Execution time: 0.1167 seconds\n",
      "-0.36044726 0.7404613\n",
      "Execution time: 0.0629 seconds\n",
      "-0.3588772 0.73277\n",
      "Execution time: 0.0599 seconds\n",
      "-0.37166587 0.72101593\n",
      "Execution time: 0.0628 seconds\n",
      "-0.39057112 0.7216129\n",
      "Execution time: 0.0613 seconds\n",
      "-0.37903538 0.7239993\n",
      "Execution time: 0.0635 seconds\n",
      "-0.37134394 0.7261476\n",
      "Execution time: 0.0634 seconds\n",
      "-0.371647 0.7257084\n",
      "Execution time: 0.0642 seconds\n",
      "-0.37028185 0.7272479\n",
      "Execution time: 0.0619 seconds\n",
      "-0.3631439 0.7274002\n",
      "Execution time: 0.0658 seconds\n",
      "-0.3878309 0.7105696\n",
      "Execution time: 0.0615 seconds\n",
      "-0.39124453 0.71964574\n",
      "Execution time: 0.0660 seconds\n",
      "-0.39368236 0.7330292\n",
      "Execution time: 0.0614 seconds\n",
      "-0.39343485 0.72906226\n",
      "Execution time: 0.0737 seconds\n",
      "-0.37843537 0.7141388\n",
      "Execution time: 0.1103 seconds\n",
      "-0.37675905 0.7181115\n",
      "Execution time: 0.0653 seconds\n",
      "-0.4709786 0.75241256\n",
      "Execution time: 0.0613 seconds\n",
      "-0.574171 0.7424469\n",
      "Execution time: 0.0628 seconds\n",
      "-0.6256285 0.7365651\n",
      "Execution time: 0.0633 seconds\n",
      "-0.6362183 0.73872685\n",
      "Execution time: 0.0687 seconds\n",
      "-0.6745732 0.74507153\n",
      "Execution time: 0.0626 seconds\n",
      "-0.6840893 0.75892013\n",
      "Execution time: 0.0613 seconds\n",
      "-0.7028753 0.717148\n",
      "Execution time: 0.0623 seconds\n",
      "-0.6375366 0.735716\n",
      "Execution time: 0.0620 seconds\n",
      "-0.54664296 0.7413787\n",
      "Execution time: 0.0625 seconds\n",
      "-0.50492114 0.7413169\n",
      "Execution time: 0.0654 seconds\n",
      "-0.46482545 0.73905534\n",
      "Execution time: 0.0601 seconds\n",
      "-0.49989516 0.7428138\n",
      "Execution time: 0.0748 seconds\n",
      "-0.4547732 0.71326447\n",
      "Execution time: 0.0858 seconds\n",
      "-0.50363725 0.7144462\n",
      "Execution time: 0.0635 seconds\n",
      "-0.4826158 0.7275957\n",
      "Execution time: 0.0618 seconds\n",
      "-0.48546314 0.7595306\n",
      "Execution time: 0.0604 seconds\n",
      "-0.4552118 0.75674033\n",
      "Execution time: 0.0616 seconds\n",
      "-0.48344 0.7361641\n",
      "Execution time: 0.0616 seconds\n",
      "-0.47343794 0.7274508\n",
      "Execution time: 0.0609 seconds\n",
      "-0.37765956 0.69500184\n",
      "Execution time: 0.0619 seconds\n",
      "-0.32066286 0.6369372\n",
      "Execution time: 0.0618 seconds\n",
      "-0.19949464 0.5731676\n",
      "Execution time: 0.0630 seconds\n",
      "-0.086572394 0.58091944\n",
      "Execution time: 0.0620 seconds\n",
      "-0.0072535984 0.54506886\n",
      "Execution time: 0.0654 seconds\n",
      "0.08632414 0.5464137\n",
      "Execution time: 0.0634 seconds\n",
      "0.15841208 0.57312995\n",
      "Execution time: 0.1034 seconds\n",
      "0.25395104 0.62731534\n",
      "Execution time: 0.0611 seconds\n",
      "0.2775633 0.62061715\n",
      "Execution time: 0.0597 seconds\n",
      "0.28300437 0.6381076\n",
      "Execution time: 0.0635 seconds\n",
      "0.25123882 0.6371914\n",
      "Execution time: 0.0608 seconds\n",
      "0.20167287 0.62134403\n",
      "Execution time: 0.0623 seconds\n",
      "0.12261815 0.5970271\n",
      "Execution time: 0.0623 seconds\n",
      "0.10155201 0.61416477\n",
      "Execution time: 0.0648 seconds\n",
      "0.102955 0.60641116\n",
      "Execution time: 0.0617 seconds\n",
      "0.07283004 0.5908185\n",
      "Execution time: 0.0616 seconds\n",
      "0.09368293 0.61854035\n",
      "Execution time: 0.0605 seconds\n",
      "0.08645554 0.6246057\n",
      "Execution time: 0.0704 seconds\n",
      "0.093195364 0.637003\n",
      "Execution time: 0.0622 seconds\n",
      "0.0807289 0.63916516\n",
      "Execution time: 0.0670 seconds\n",
      "0.068776906 0.63152295\n",
      "Execution time: 0.1202 seconds\n",
      "0.060889166 0.63059235\n",
      "Execution time: 0.0630 seconds\n",
      "0.07805693 0.64206225\n",
      "Execution time: 0.0601 seconds\n",
      "0.09619014 0.64801437\n",
      "Execution time: 0.0622 seconds\n",
      "0.08973986 0.6521535\n",
      "Execution time: 0.0646 seconds\n",
      "0.068836525 0.6721859\n",
      "Execution time: 0.0624 seconds\n",
      "0.057431083 0.67507076\n",
      "Execution time: 0.0613 seconds\n",
      "0.052347828 0.657492\n",
      "Execution time: 0.0606 seconds\n",
      "0.053255957 0.6728044\n",
      "Execution time: 0.0602 seconds\n",
      "0.054789748 0.69433624\n",
      "Execution time: 0.0617 seconds\n",
      "0.049732003 0.706532\n",
      "Execution time: 0.0627 seconds\n",
      "0.064238906 0.72251797\n",
      "Execution time: 0.0659 seconds\n",
      "0.102428064 0.7313071\n",
      "Execution time: 0.0608 seconds\n",
      "0.093629405 0.7532068\n",
      "Execution time: 0.0740 seconds\n",
      "0.07562332 0.75122213\n",
      "Execution time: 0.0963 seconds\n",
      "-0.031022325 0.75951356\n"
     ]
    }
   ],
   "source": [
    "camera.observe(execute, names='value')"
   ]
  },
  {
   "cell_type": "code",
   "execution_count": 13,
   "id": "warming-subsection",
   "metadata": {
    "scrolled": true
   },
   "outputs": [
    {
     "ename": "ValueError",
     "evalue": "list.remove(x): x not in list",
     "output_type": "error",
     "traceback": [
      "\u001B[0;31m\u001B[0m",
      "\u001B[0;31mValueError\u001B[0mTraceback (most recent call last)",
      "\u001B[0;32m<ipython-input-13-c0a1a14d3871>\u001B[0m in \u001B[0;36m<module>\u001B[0;34m\u001B[0m\n\u001B[1;32m      1\u001B[0m \u001B[0;32mimport\u001B[0m \u001B[0mtime\u001B[0m\u001B[0;34m\u001B[0m\u001B[0;34m\u001B[0m\u001B[0m\n\u001B[1;32m      2\u001B[0m \u001B[0;34m\u001B[0m\u001B[0m\n\u001B[0;32m----> 3\u001B[0;31m \u001B[0mcamera\u001B[0m\u001B[0;34m.\u001B[0m\u001B[0munobserve\u001B[0m\u001B[0;34m(\u001B[0m\u001B[0mexecute\u001B[0m\u001B[0;34m,\u001B[0m \u001B[0mnames\u001B[0m\u001B[0;34m=\u001B[0m\u001B[0;34m'value'\u001B[0m\u001B[0;34m)\u001B[0m\u001B[0;34m\u001B[0m\u001B[0;34m\u001B[0m\u001B[0m\n\u001B[0m\u001B[1;32m      4\u001B[0m \u001B[0;34m\u001B[0m\u001B[0m\n\u001B[1;32m      5\u001B[0m \u001B[0mtime\u001B[0m\u001B[0;34m.\u001B[0m\u001B[0msleep\u001B[0m\u001B[0;34m(\u001B[0m\u001B[0;36m0.1\u001B[0m\u001B[0;34m)\u001B[0m  \u001B[0;31m# add a small sleep to make sure frames have finished processing\u001B[0m\u001B[0;34m\u001B[0m\u001B[0;34m\u001B[0m\u001B[0m\n",
      "\u001B[0;32m/usr/local/lib/python3.6/dist-packages/traitlets/traitlets.py\u001B[0m in \u001B[0;36munobserve\u001B[0;34m(self, handler, names, type)\u001B[0m\n\u001B[1;32m   1360\u001B[0m         \u001B[0mnames\u001B[0m \u001B[0;34m=\u001B[0m \u001B[0mparse_notifier_name\u001B[0m\u001B[0;34m(\u001B[0m\u001B[0mnames\u001B[0m\u001B[0;34m)\u001B[0m\u001B[0;34m\u001B[0m\u001B[0;34m\u001B[0m\u001B[0m\n\u001B[1;32m   1361\u001B[0m         \u001B[0;32mfor\u001B[0m \u001B[0mn\u001B[0m \u001B[0;32min\u001B[0m \u001B[0mnames\u001B[0m\u001B[0;34m:\u001B[0m\u001B[0;34m\u001B[0m\u001B[0;34m\u001B[0m\u001B[0m\n\u001B[0;32m-> 1362\u001B[0;31m             \u001B[0mself\u001B[0m\u001B[0;34m.\u001B[0m\u001B[0m_remove_notifiers\u001B[0m\u001B[0;34m(\u001B[0m\u001B[0mhandler\u001B[0m\u001B[0;34m,\u001B[0m \u001B[0mn\u001B[0m\u001B[0;34m,\u001B[0m \u001B[0mtype\u001B[0m\u001B[0;34m)\u001B[0m\u001B[0;34m\u001B[0m\u001B[0;34m\u001B[0m\u001B[0m\n\u001B[0m\u001B[1;32m   1363\u001B[0m \u001B[0;34m\u001B[0m\u001B[0m\n\u001B[1;32m   1364\u001B[0m     \u001B[0;32mdef\u001B[0m \u001B[0munobserve_all\u001B[0m\u001B[0;34m(\u001B[0m\u001B[0mself\u001B[0m\u001B[0;34m,\u001B[0m \u001B[0mname\u001B[0m\u001B[0;34m=\u001B[0m\u001B[0mAll\u001B[0m\u001B[0;34m)\u001B[0m\u001B[0;34m:\u001B[0m\u001B[0;34m\u001B[0m\u001B[0;34m\u001B[0m\u001B[0m\n",
      "\u001B[0;32m/usr/local/lib/python3.6/dist-packages/traitlets/traitlets.py\u001B[0m in \u001B[0;36m_remove_notifiers\u001B[0;34m(self, handler, name, type)\u001B[0m\n\u001B[1;32m   1270\u001B[0m                 \u001B[0;32mdel\u001B[0m \u001B[0mself\u001B[0m\u001B[0;34m.\u001B[0m\u001B[0m_trait_notifiers\u001B[0m\u001B[0;34m[\u001B[0m\u001B[0mname\u001B[0m\u001B[0;34m]\u001B[0m\u001B[0;34m[\u001B[0m\u001B[0mtype\u001B[0m\u001B[0;34m]\u001B[0m\u001B[0;34m\u001B[0m\u001B[0;34m\u001B[0m\u001B[0m\n\u001B[1;32m   1271\u001B[0m             \u001B[0;32melse\u001B[0m\u001B[0;34m:\u001B[0m\u001B[0;34m\u001B[0m\u001B[0;34m\u001B[0m\u001B[0m\n\u001B[0;32m-> 1272\u001B[0;31m                 \u001B[0mself\u001B[0m\u001B[0;34m.\u001B[0m\u001B[0m_trait_notifiers\u001B[0m\u001B[0;34m[\u001B[0m\u001B[0mname\u001B[0m\u001B[0;34m]\u001B[0m\u001B[0;34m[\u001B[0m\u001B[0mtype\u001B[0m\u001B[0;34m]\u001B[0m\u001B[0;34m.\u001B[0m\u001B[0mremove\u001B[0m\u001B[0;34m(\u001B[0m\u001B[0mhandler\u001B[0m\u001B[0;34m)\u001B[0m\u001B[0;34m\u001B[0m\u001B[0;34m\u001B[0m\u001B[0m\n\u001B[0m\u001B[1;32m   1273\u001B[0m         \u001B[0;32mexcept\u001B[0m \u001B[0mKeyError\u001B[0m\u001B[0;34m:\u001B[0m\u001B[0;34m\u001B[0m\u001B[0;34m\u001B[0m\u001B[0m\n\u001B[1;32m   1274\u001B[0m             \u001B[0;32mpass\u001B[0m\u001B[0;34m\u001B[0m\u001B[0;34m\u001B[0m\u001B[0m\n",
      "\u001B[0;31mValueError\u001B[0m: list.remove(x): x not in list"
     ]
    }
   ],
   "source": [
    "import time\n",
    "\n",
    "camera.unobserve(execute, names='value')\n",
    "\n",
    "time.sleep(0.1)  # add a small sleep to make sure frames have finished processing\n",
    "\n",
    "robot.stop()"
   ]
  },
  {
   "cell_type": "code",
   "execution_count": null,
   "id": "chicken-dover",
   "metadata": {},
   "outputs": [],
   "source": []
  },
  {
   "cell_type": "code",
   "execution_count": null,
   "id": "black-argument",
   "metadata": {},
   "outputs": [],
   "source": []
  }
 ],
 "metadata": {
  "kernelspec": {
   "display_name": "Python 3",
   "language": "python",
   "name": "python3"
  },
  "language_info": {
   "codemirror_mode": {
    "name": "ipython",
    "version": 3
   },
   "file_extension": ".py",
   "mimetype": "text/x-python",
   "name": "python",
   "nbconvert_exporter": "python",
   "pygments_lexer": "ipython3",
   "version": "3.6.9"
  }
 },
 "nbformat": 4,
 "nbformat_minor": 5
}
