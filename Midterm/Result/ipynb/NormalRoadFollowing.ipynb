{
 "cells": [
  {
   "cell_type": "code",
   "execution_count": 2,
   "id": "american-siemens",
   "metadata": {},
   "outputs": [
    {
     "name": "stdout",
     "output_type": "stream",
     "text": [
      "Requirement already satisfied: transforms in /usr/local/lib/python3.6/dist-packages\n",
      "Requirement already satisfied: sgmllib3k in /usr/local/lib/python3.6/dist-packages\n",
      "Archive:  output.zip\n",
      "   creating: output/\n",
      "  inflating: output/resnet50_lr1e-05_epochs50_batch16.pth  \n",
      "  inflating: output/resnet50_lr1e-05_epochs50_batch16_trt_fp32.pth  \n",
      "  inflating: output/resnet18_lr1e-05_epochs50_batch16.pth  \n",
      "  inflating: output/resnet34_lr1e-05_epochs50_batch16.pth  \n",
      "  inflating: output/resnet18_lr1e-05_epochs50_batch16_trt_fp8.pth  \n",
      "  inflating: output/resnet50_lr1e-05_epochs50_batch16_trt_fp16.pth  \n",
      "  inflating: output/resnet18_lr1e-05_epochs50_batch16_trt_fp16.pth  \n",
      "   creating: output/.ipynb_checkpoints/\n",
      "  inflating: output/resnet34_lr1e-05_epochs50_batch16_trt_fp8.pth  \n",
      "  inflating: output/resnet50_lr1e-05_epochs50_batch16_trt_fp8.pth  \n",
      "  inflating: output/resnet34_lr1e-05_epochs50_batch16_trt_fp16.pth  \n",
      "  inflating: output/resnet34_lr1e-05_epochs50_batch16_trt_fp32.pth  \n",
      "  inflating: output/resnet18_lr1e-05_epochs50_batch16_trt_fp32.pth  \n"
     ]
    }
   ],
   "source": [
    "!pip3 install transforms\n",
    "!pip3 install sgmllib3k\n",
    "#!unrar x dataset_xy.rar\n",
    "!unzip output.zip"
   ]
  },
  {
   "cell_type": "code",
   "execution_count": 1,
   "id": "human-array",
   "metadata": {},
   "outputs": [],
   "source": [
    "import torch\n",
    "import torch.optim as optim\n",
    "import torch.nn.functional as F\n",
    "import torchvision\n",
    "import torchvision.datasets as datasets\n",
    "import torchvision.models as models\n",
    "import torchvision.transforms as transforms\n",
    "import glob\n",
    "import PIL.Image\n",
    "import os\n",
    "import numpy as np\n",
    "# IPython Libraries for display and widgets\n",
    "import traitlets\n",
    "import ipywidgets.widgets as widgets\n",
    "from IPython.display import display\n",
    "\n",
    "# Camera and Motor Interface for JetBot\n",
    "from jetbot import Robot, Camera, bgr8_to_jpeg\n",
    "\n",
    "# Basic Python packages for image annotation\n",
    "from uuid import uuid1\n",
    "import os\n",
    "import json\n",
    "import glob\n",
    "import datetime\n",
    "import numpy as np\n",
    "import cv2\n",
    "import time\n",
    "import torch\n",
    "import torch.optim as optim\n",
    "import torch.nn.functional as F\n",
    "import torchvision\n",
    "import torchvision.datasets as datasets\n",
    "import torchvision.models as models\n",
    "from torch.utils.data import DataLoader\n",
    "\n",
    "import torchvision.transforms as transforms\n",
    "import glob\n",
    "import PIL.Image\n",
    "import os\n",
    "import numpy as np\n",
    "import torch.nn.functional as F\n",
    "import torch\n",
    "import torch.optim as optim\n",
    "import torch.nn.functional as F\n",
    "import torchvision\n",
    "import torchvision.datasets as datasets\n",
    "import torchvision.models as models\n",
    "import torchvision.transforms as transforms\n",
    "import glob\n",
    "import PIL.Image\n",
    "import os\n",
    "import numpy as np\n",
    "import torch.nn as nn\n",
    "import ipywidgets as widgets\n",
    "from IPython.display import display\n",
    "import csv\n",
    "import ipywidgets as widgets\n",
    "from jetbot import Robot\n",
    "import numpy as np\n",
    "from datetime import datetime\n",
    "from jetbot import Camera, bgr8_to_jpeg\n",
    "import torch\n",
    "import cv2\n",
    "import traitlets\n",
    "import numpy as np\n",
    "from jetbot import Camera, bgr8_to_jpeg\n",
    "from torchvision import models, transforms\n",
    "from ipywidgets import widgets\n",
    "from IPython.display import display\n",
    "import time\n",
    "import torch\n",
    "import cv2\n",
    "import traitlets\n",
    "import numpy as np\n",
    "from jetbot import Camera, bgr8_to_jpeg\n",
    "from torchvision import models, transforms\n",
    "from ipywidgets import widgets\n",
    "from IPython.display import display\n",
    "import time\n",
    "import ipywidgets"
   ]
  },
  {
   "cell_type": "code",
   "execution_count": 14,
   "id": "convertible-preview",
   "metadata": {},
   "outputs": [],
   "source": [
    "# 初始化相機\n",
    "camera = Camera.instance(width=224, height=224,fps=5)\n",
    "\n",
    "# 設定 widget 大小\n",
    "widget_width = 224\n",
    "widget_height = 224\n",
    "\n",
    "# 建立顯示影像的 widget 和 x, y 控制滑桿\n",
    "#image_widget = widgets.Image(format='jpeg', width=widget_width, height=widget_height)\n",
    "#target_widget = widgets.Image(format='jpeg', width=widget_width, height=widget_height)\n",
    "#x_slider = widgets.FloatSlider(min=-1.0, max=1.0, step=0.001, description='x')\n",
    "#y_slider = widgets.FloatSlider(min=-1.0, max=1.0, step=0.001, description='y')\n",
    "\n",
    "# 顯示 widget\n",
    "#display(widgets.HBox([image_widget]))\n",
    "\n",
    "# 啟動相機影像的即時處理和推論\n",
    "time.sleep(1)  # 確保相機啟動完成\n",
    "#traitlets.dlink((camera, 'value'), (image_widget, 'value'), transform=bgr8_to_jpeg)\n",
    "#traitlets.dlink((camera, 'value'), (target_widget, 'value'), transform=process_and_predict)\n"
   ]
  },
  {
   "cell_type": "code",
   "execution_count": 17,
   "id": "dirty-diesel",
   "metadata": {},
   "outputs": [],
   "source": [
    "camera.stop()"
   ]
  },
  {
   "cell_type": "code",
   "execution_count": 3,
   "id": "impressed-civilization",
   "metadata": {},
   "outputs": [
    {
     "data": {
      "application/vnd.jupyter.widget-view+json": {
       "model_id": "c86eff7a5bc24f5bab0a8040a737beca",
       "version_major": 2,
       "version_minor": 0
      },
      "text/plain": [
       "FloatSlider(value=0.0, description='speed gain', max=1.0, step=0.01)"
      ]
     },
     "metadata": {},
     "output_type": "display_data"
    },
    {
     "data": {
      "application/vnd.jupyter.widget-view+json": {
       "model_id": "3fcd90451fd04240a4ea3e664f5c7831",
       "version_major": 2,
       "version_minor": 0
      },
      "text/plain": [
       "FloatSlider(value=0.1, description='steering gain', max=1.0, step=0.01)"
      ]
     },
     "metadata": {},
     "output_type": "display_data"
    },
    {
     "data": {
      "application/vnd.jupyter.widget-view+json": {
       "model_id": "7bc1674401594de9bc3d65a5c8df48cf",
       "version_major": 2,
       "version_minor": 0
      },
      "text/plain": [
       "FloatSlider(value=0.02, description='steering kd', max=0.5, step=0.001)"
      ]
     },
     "metadata": {},
     "output_type": "display_data"
    },
    {
     "data": {
      "application/vnd.jupyter.widget-view+json": {
       "model_id": "a585cf9d80f447a7bc4d9f4faa1e15c7",
       "version_major": 2,
       "version_minor": 0
      },
      "text/plain": [
       "FloatSlider(value=0.0, description='steering bias left', max=0.3, min=-0.3, step=0.01)"
      ]
     },
     "metadata": {},
     "output_type": "display_data"
    },
    {
     "data": {
      "application/vnd.jupyter.widget-view+json": {
       "model_id": "f4efae222b4f4981a441af6f0852b01d",
       "version_major": 2,
       "version_minor": 0
      },
      "text/plain": [
       "FloatSlider(value=0.0, description='steering bias right', max=0.3, min=-0.3, step=0.01)"
      ]
     },
     "metadata": {},
     "output_type": "display_data"
    },
    {
     "data": {
      "application/vnd.jupyter.widget-view+json": {
       "model_id": "008ff8c6a0ac405189c951ee012c0dfd",
       "version_major": 2,
       "version_minor": 0
      },
      "text/plain": [
       "FloatSlider(value=0.0, description='Steering I Gain', max=1.0, step=0.01)"
      ]
     },
     "metadata": {},
     "output_type": "display_data"
    }
   ],
   "source": [
    "speed_gain_slider = ipywidgets.FloatSlider(min=0.0, max=1.0, step=0.01, description='speed gain')\n",
    "steering_gain_slider = ipywidgets.FloatSlider(min=0.0, max=1.0, step=0.01, value=0.1, description='steering gain')\n",
    "steering_dgain_slider = ipywidgets.FloatSlider(min=0.0, max=0.5, step=0.001, value=0.02, description='steering kd')\n",
    "steering_left_bias_slider = ipywidgets.FloatSlider(min=-0.3, max=0.3, step=0.01, value=0.0, description='steering bias left')\n",
    "steering_right_bias_slider = ipywidgets.FloatSlider(min=-0.3, max=0.3, step=0.01, value=0.0, description='steering bias right')\n",
    "steering_igain_slider = widgets.FloatSlider(\n",
    "    min=0.0, max=1.0, step=0.01, value=0.00, description='Steering I Gain'\n",
    ")\n",
    "display(speed_gain_slider, steering_gain_slider, steering_dgain_slider, steering_left_bias_slider,steering_right_bias_slider,steering_igain_slider)"
   ]
  },
  {
   "cell_type": "code",
   "execution_count": 4,
   "id": "adequate-charm",
   "metadata": {},
   "outputs": [
    {
     "data": {
      "application/vnd.jupyter.widget-view+json": {
       "model_id": "fff2d76d4b0d4726a64984aee3a84c37",
       "version_major": 2,
       "version_minor": 0
      },
      "text/plain": [
       "HBox(children=(FloatSlider(value=0.0, description='y', max=1.0, orientation='vertical'), FloatSlider(value=0.0…"
      ]
     },
     "metadata": {},
     "output_type": "display_data"
    },
    {
     "data": {
      "application/vnd.jupyter.widget-view+json": {
       "model_id": "2e1aec364b5c4b8fa8a5968d241d7914",
       "version_major": 2,
       "version_minor": 0
      },
      "text/plain": [
       "FloatSlider(value=0.0, description='x', max=1.0, min=-1.0)"
      ]
     },
     "metadata": {},
     "output_type": "display_data"
    },
    {
     "data": {
      "application/vnd.jupyter.widget-view+json": {
       "model_id": "58440468f2bc43f5991a74296002de6d",
       "version_major": 2,
       "version_minor": 0
      },
      "text/plain": [
       "FloatSlider(value=0.0, description='steering', max=1.0, min=-1.0, step=0.01)"
      ]
     },
     "metadata": {},
     "output_type": "display_data"
    }
   ],
   "source": [
    "x_slider = ipywidgets.FloatSlider(min=-1.0, max=1.0, description='x')\n",
    "y_slider = ipywidgets.FloatSlider(min=0, max=1.0, orientation='vertical', description='y')\n",
    "steering_slider = ipywidgets.FloatSlider(min=-1.0, max=1.0, step=0.01 ,description='steering')\n",
    "speed_slider = ipywidgets.FloatSlider(min=0, max=1.0, step=0.01, orientation='vertical', description='speed')\n",
    "display(ipywidgets.HBox([y_slider, speed_slider]))\n",
    "display(x_slider, steering_slider)"
   ]
  },
  {
   "cell_type": "code",
   "execution_count": 9,
   "id": "needed-pulse",
   "metadata": {
    "scrolled": true
   },
   "outputs": [
    {
     "name": "stdout",
     "output_type": "stream",
     "text": [
      "cuda\n"
     ]
    },
    {
     "data": {
      "application/vnd.jupyter.widget-view+json": {
       "model_id": "f0ee6a2bb52c43d2a03773e2bbd0bae6",
       "version_major": 2,
       "version_minor": 0
      },
      "text/plain": [
       "FloatSlider(value=0.0, description='Left Motor', max=1.0, min=-1.0, step=0.01)"
      ]
     },
     "metadata": {},
     "output_type": "display_data"
    },
    {
     "data": {
      "application/vnd.jupyter.widget-view+json": {
       "model_id": "c00466f485e44bf5b85b9c40f35ec87a",
       "version_major": 2,
       "version_minor": 0
      },
      "text/plain": [
       "FloatSlider(value=0.0, description='Right Motor', max=1.0, min=-1.0, step=0.01)"
      ]
     },
     "metadata": {},
     "output_type": "display_data"
    },
    {
     "data": {
      "application/vnd.jupyter.widget-view+json": {
       "model_id": "ac03a734b9e647e0a325f2b92556023b",
       "version_major": 2,
       "version_minor": 0
      },
      "text/plain": [
       "FloatSlider(value=0.0, description='Angle', max=3.141592653589793, min=-3.141592653589793, step=0.01)"
      ]
     },
     "metadata": {},
     "output_type": "display_data"
    },
    {
     "name": "stdout",
     "output_type": "stream",
     "text": [
      "-0.1504682 0.5497326\n",
      "Execution time: 0.5595 seconds\n"
     ]
    }
   ],
   "source": [
    "# 設定裝置 (若有 GPU 可用)\n",
    "device = torch.device(\"cuda\" if torch.cuda.is_available() else \"cpu\")\n",
    "print(device)\n",
    "\n",
    "# 加載模型\n",
    "model = models.resnet18()\n",
    "model.fc = nn.Linear(model.fc.in_features, 2)\n",
    "model.load_state_dict(torch.load(\"lane_detection_model.pth\"))\n",
    "model = model.to(device)\n",
    "model.eval()  # 將模型設定為推論模式\n",
    "\n",
    "transform = transforms.Compose([\n",
    "        transforms.ToTensor(),\n",
    "        transforms.Normalize([0.4691, 0.4032, 0.4579], [0.1740, 0.1485, 0.1688])\n",
    "    ])\n",
    "\n",
    "# 初始化機器人和滑桿\n",
    "robot = Robot()\n",
    "robot.motor_driver._pwm.setPWMFreq(100)\n",
    "angle = 0.0\n",
    "angle_last = 0.0\n",
    "integral = 0.0  # 初始化積分項\n",
    "left_motor_slider = widgets.FloatSlider(min=-1.0, max=1.0, step=0.01, description='Left Motor')\n",
    "right_motor_slider = widgets.FloatSlider(min=-1.0, max=1.0, step=0.01, description='Right Motor')\n",
    "angle_slider = widgets.FloatSlider(min=-np.pi, max=np.pi, step=0.01, description='Angle')\n",
    "display(left_motor_slider, right_motor_slider, angle_slider)\n",
    "\n",
    "# 初始化 CSV 文件，添加標題\n",
    "with open('motor_log.csv', 'w', newline='') as file:\n",
    "    writer = csv.writer(file)\n",
    "    writer.writerow(['timestamp', 'left_motor', 'right_motor', 'speed', 'angle'])\n",
    "\n",
    "def execute(change):\n",
    "    import time\n",
    "    start_time = time.time()  # 開始計時\n",
    "    global angle, angle_last, integral\n",
    "    image = change['new']\n",
    "    \n",
    "    input_tensor = transform(image).unsqueeze(0).to(device)\n",
    "    \n",
    "    with torch.no_grad():\n",
    "        output = model(input_tensor)\n",
    "        x, y = output[0].cpu().numpy()\n",
    "    \n",
    "    x_slider.value = x\n",
    "    y_slider.value = y\n",
    "    print(x,y)\n",
    "    speed_slider.value = speed_gain_slider.value\n",
    "    \n",
    "    # 計算角度，更新 PID 項\n",
    "    angle = np.arctan2(x, y)\n",
    "    angle_slider.value = angle  # 更新角度滑桿值\n",
    "\n",
    "    # 更新積分項\n",
    "    integral += angle\n",
    "    \n",
    "    # 計算 PID 控制值\n",
    "    pid = (\n",
    "        angle * steering_gain_slider.value  # P 項\n",
    "        + (angle - angle_last) * steering_dgain_slider.value  # D 項\n",
    "        + integral * steering_igain_slider.value  # I 項\n",
    "    )\n",
    "    \n",
    "    angle_last = angle  # 更新上一個角度\n",
    "\n",
    "    if angle < 0:\n",
    "        steering_slider.value = pid + steering_left_bias_slider.value  # 如果 angle < 0，添加偏置\n",
    "    else:\n",
    "        steering_slider.value = pid + steering_right_bias_slider.value  # 如果 angle >= 0，減去偏置\n",
    "    \n",
    "    # 計算馬達值\n",
    "    right_motor_value = -max(min(speed_slider.value - steering_slider.value, 1.0), 0.0)\n",
    "    left_motor_value = -max(min(speed_slider.value + steering_slider.value, 1.0), 0.0)\n",
    "    left_motor_slider.value = left_motor_value\n",
    "    right_motor_slider.value = right_motor_value\n",
    "    \n",
    "    # 設置機器人馬達值\n",
    "    robot.left_motor.value = left_motor_value\n",
    "    robot.right_motor.value = right_motor_value\n",
    "    \n",
    "    end_time = time.time()  # 結束計時\n",
    "    execution_time = end_time - start_time  # 計算間隔時間\n",
    "    print(f'Execution time: {execution_time:.4f} seconds')\n",
    "\n",
    "execute({'new': camera.value})\n"
   ]
  },
  {
   "cell_type": "code",
   "execution_count": 15,
   "id": "valued-plane",
   "metadata": {
    "scrolled": true
   },
   "outputs": [
    {
     "name": "stdout",
     "output_type": "stream",
     "text": [
      "0.122085206 0.6316299\n",
      "Execution time: 0.5251 seconds\n",
      "0.12429183 0.631281\n",
      "Execution time: 0.2432 seconds\n",
      "0.1194069 0.6257095\n",
      "Execution time: 0.2564 seconds\n",
      "0.121673174 0.63035285\n",
      "Execution time: 0.2276 seconds\n",
      "0.12557882 0.63187987\n",
      "Execution time: 0.2278 seconds\n",
      "0.12443396 0.6300683\n",
      "Execution time: 0.2217 seconds\n",
      "0.13028827 0.6265801\n",
      "Execution time: 0.2666 seconds\n",
      "0.1203733 0.62656224\n",
      "Execution time: 0.2539 seconds\n",
      "0.11708953 0.6307268\n",
      "Execution time: 0.2280 seconds\n",
      "0.121808656 0.6325695\n",
      "Execution time: 0.2384 seconds\n",
      "0.12224423 0.63465625\n",
      "Execution time: 0.2165 seconds\n",
      "0.11888268 0.6314834\n",
      "Execution time: 0.2137 seconds\n",
      "0.1173001 0.62953424\n",
      "Execution time: 0.2193 seconds\n",
      "0.123165734 0.63078356\n",
      "Execution time: 0.2734 seconds\n",
      "0.121271424 0.63423276\n",
      "Execution time: 0.2481 seconds\n",
      "0.12555107 0.62943584\n",
      "Execution time: 0.2284 seconds\n",
      "0.120726295 0.6350983\n",
      "Execution time: 0.2284 seconds\n",
      "0.12449431 0.62962013\n",
      "Execution time: 0.2432 seconds\n",
      "0.12978548 0.63072336\n",
      "Execution time: 0.2380 seconds\n",
      "0.12148676 0.63065594\n",
      "Execution time: 0.2595 seconds\n",
      "0.12407278 0.6315898\n",
      "Execution time: 0.3023 seconds\n",
      "0.12460662 0.63388497\n",
      "Execution time: 0.2254 seconds\n",
      "0.12398841 0.6319739\n",
      "Execution time: 0.2287 seconds\n",
      "0.12213852 0.6335895\n",
      "Execution time: 0.2315 seconds\n",
      "0.12317046 0.63462293\n",
      "Execution time: 0.2168 seconds\n",
      "0.12574846 0.63156784\n",
      "Execution time: 0.2350 seconds\n",
      "0.122463994 0.63447756\n",
      "Execution time: 0.2774 seconds\n",
      "0.123514675 0.63030344\n",
      "Execution time: 0.2510 seconds\n",
      "0.119770266 0.6367966\n",
      "Execution time: 0.2317 seconds\n",
      "0.12081801 0.6302455\n",
      "Execution time: 0.2160 seconds\n",
      "0.12858069 0.62955016\n",
      "Execution time: 0.2153 seconds\n",
      "0.12488099 0.6295495\n",
      "Execution time: 0.2403 seconds\n",
      "0.123232774 0.62909716\n",
      "Execution time: 0.2406 seconds\n",
      "0.124712326 0.62460846\n",
      "Execution time: 0.2666 seconds\n",
      "0.11860999 0.6287759\n",
      "Execution time: 0.2408 seconds\n",
      "0.12006713 0.625971\n",
      "Execution time: 0.2441 seconds\n",
      "0.11936464 0.63164115\n",
      "Execution time: 0.2224 seconds\n",
      "0.12744164 0.6289433\n",
      "Execution time: 0.2336 seconds\n",
      "0.12687507 0.6310114\n",
      "Execution time: 0.2371 seconds\n",
      "0.12178805 0.6280233\n",
      "Execution time: 0.2730 seconds\n",
      "0.12524074 0.63024193\n",
      "Execution time: 0.2912 seconds\n",
      "0.121572815 0.63359725\n",
      "Execution time: 0.2237 seconds\n",
      "0.11996221 0.62676007\n",
      "Execution time: 0.2250 seconds\n",
      "0.12557968 0.6330121\n",
      "Execution time: 0.2228 seconds\n",
      "0.118925415 0.6303139\n",
      "Execution time: 0.2537 seconds\n",
      "0.12844342 0.63524646\n",
      "Execution time: 0.2422 seconds\n",
      "0.12459808 0.63382983\n",
      "Execution time: 0.2686 seconds\n",
      "0.12717229 0.63207\n",
      "Execution time: 0.2606 seconds\n",
      "0.12035375 0.63240093\n",
      "Execution time: 0.2320 seconds\n",
      "0.12527105 0.63191867\n",
      "Execution time: 0.2325 seconds\n",
      "0.11966332 0.6329333\n",
      "Execution time: 0.2178 seconds\n",
      "0.12474226 0.6295512\n",
      "Execution time: 0.2358 seconds\n",
      "0.12729126 0.63323855\n",
      "Execution time: 0.2472 seconds\n",
      "0.118766434 0.6310636\n",
      "Execution time: 0.2726 seconds\n",
      "0.12406399 0.6304316\n",
      "Execution time: 0.2472 seconds\n",
      "0.12058086 0.6311514\n",
      "Execution time: 0.2242 seconds\n",
      "0.12392428 0.6344529\n",
      "Execution time: 0.2459 seconds\n",
      "0.12366419 0.63329536\n",
      "Execution time: 0.2391 seconds\n",
      "0.11825486 0.63044727\n",
      "Execution time: 0.2411 seconds\n",
      "0.13213643 0.6326365\n",
      "Execution time: 0.2654 seconds\n",
      "0.1207129 0.63701665\n",
      "Execution time: 0.2802 seconds\n",
      "0.12062452 0.6306159\n",
      "Execution time: 0.2363 seconds\n",
      "0.11364836 0.63002676\n",
      "Execution time: 0.2361 seconds\n",
      "0.11836859 0.6330045\n",
      "Execution time: 0.2268 seconds\n",
      "0.12109589 0.62962836\n",
      "Execution time: 0.2200 seconds\n",
      "0.12392219 0.6284082\n",
      "Execution time: 0.2445 seconds\n",
      "0.12044913 0.63195795\n",
      "Execution time: 0.2654 seconds\n",
      "0.1214261 0.62786865\n",
      "Execution time: 0.2415 seconds\n",
      "0.13433978 0.6424809\n",
      "Execution time: 0.2345 seconds\n",
      "0.12292958 0.6306087\n",
      "Execution time: 0.2421 seconds\n",
      "0.07888768 0.62805265\n",
      "Execution time: 0.2291 seconds\n",
      "0.048337556 0.61262244\n",
      "Execution time: 0.2505 seconds\n",
      "-0.16153112 0.55467093\n",
      "Execution time: 0.2782 seconds\n",
      "-0.20871067 0.58210355\n",
      "Execution time: 0.2950 seconds\n",
      "-0.19534767 0.57253623\n",
      "Execution time: 0.2251 seconds\n",
      "-0.20037284 0.5731149\n",
      "Execution time: 0.2283 seconds\n",
      "-0.19690621 0.5698073\n",
      "Execution time: 0.2272 seconds\n",
      "-0.19393674 0.5739021\n",
      "Execution time: 0.2418 seconds\n",
      "-0.1951035 0.5713848\n",
      "Execution time: 0.2427 seconds\n",
      "-0.1921491 0.57378405\n",
      "Execution time: 0.2681 seconds\n",
      "-0.19072968 0.5742289\n",
      "Execution time: 0.2613 seconds\n",
      "-0.19382527 0.57105124\n",
      "Execution time: 0.2280 seconds\n",
      "-0.19131893 0.5736685\n",
      "Execution time: 0.2314 seconds\n",
      "-0.18842798 0.5775585\n",
      "Execution time: 0.2316 seconds\n",
      "-0.19253528 0.5740687\n",
      "Execution time: 0.2163 seconds\n",
      "-0.19163284 0.5746722\n",
      "Execution time: 0.2797 seconds\n",
      "-0.19285563 0.57377297\n",
      "Execution time: 0.3076 seconds\n",
      "-0.19017252 0.5775745\n",
      "Execution time: 0.2246 seconds\n",
      "-0.1892362 0.5757172\n",
      "Execution time: 0.2114 seconds\n",
      "-0.18945885 0.5781154\n",
      "Execution time: 0.2313 seconds\n",
      "-0.19287744 0.5765258\n",
      "Execution time: 0.2346 seconds\n",
      "-0.18927112 0.5771564\n",
      "Execution time: 0.2418 seconds\n",
      "-0.1871115 0.57590777\n",
      "Execution time: 0.2636 seconds\n",
      "-0.18908337 0.5748737\n",
      "Execution time: 0.2698 seconds\n",
      "-0.18875691 0.5797128\n",
      "Execution time: 0.2261 seconds\n",
      "-0.19135383 0.57727\n",
      "Execution time: 0.2347 seconds\n",
      "-0.19091243 0.57544494\n",
      "Execution time: 0.2192 seconds\n",
      "-0.18783394 0.5764883\n",
      "Execution time: 0.2367 seconds\n",
      "-0.19081697 0.5780534\n",
      "Execution time: 0.2414 seconds\n",
      "-0.18886986 0.57867706\n",
      "Execution time: 0.2697 seconds\n",
      "-0.18826878 0.5783774\n",
      "Execution time: 0.2607 seconds\n",
      "-0.19028726 0.57616985\n",
      "Execution time: 0.2343 seconds\n",
      "-0.18818903 0.57846934\n",
      "Execution time: 0.2344 seconds\n",
      "-0.19075769 0.5773392\n",
      "Execution time: 0.2354 seconds\n",
      "-0.18640935 0.57809216\n",
      "Execution time: 0.2502 seconds\n",
      "-0.19116184 0.5761532\n",
      "Execution time: 0.2554 seconds\n",
      "-0.18912882 0.5756132\n",
      "Execution time: 0.2911 seconds\n"
     ]
    }
   ],
   "source": [
    "camera.observe(execute, names='value')"
   ]
  },
  {
   "cell_type": "code",
   "execution_count": 16,
   "id": "fuzzy-currency",
   "metadata": {
    "scrolled": true
   },
   "outputs": [
    {
     "name": "stdout",
     "output_type": "stream",
     "text": [
      "-0.19013232 0.57830393\n",
      "Execution time: 0.2332 seconds\n",
      "-0.18839103 0.57769483\n",
      "Execution time: 0.2478 seconds\n"
     ]
    }
   ],
   "source": [
    "import time\n",
    "\n",
    "camera.unobserve(execute, names='value')\n",
    "\n",
    "time.sleep(0.1)  # add a small sleep to make sure frames have finished processing\n",
    "\n",
    "robot.stop()"
   ]
  },
  {
   "cell_type": "code",
   "execution_count": null,
   "id": "growing-manitoba",
   "metadata": {},
   "outputs": [],
   "source": []
  },
  {
   "cell_type": "code",
   "execution_count": null,
   "id": "least-powell",
   "metadata": {},
   "outputs": [],
   "source": []
  }
 ],
 "metadata": {
  "kernelspec": {
   "display_name": "Python 3",
   "language": "python",
   "name": "python3"
  },
  "language_info": {
   "codemirror_mode": {
    "name": "ipython",
    "version": 3
   },
   "file_extension": ".py",
   "mimetype": "text/x-python",
   "name": "python",
   "nbconvert_exporter": "python",
   "pygments_lexer": "ipython3",
   "version": "3.6.9"
  }
 },
 "nbformat": 4,
 "nbformat_minor": 5
}
