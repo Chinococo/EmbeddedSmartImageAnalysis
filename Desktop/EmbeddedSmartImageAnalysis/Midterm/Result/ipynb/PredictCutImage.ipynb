{
 "cells": [
  {
   "cell_type": "markdown",
   "id": "listed-majority",
   "metadata": {},
   "source": [
    "# 加載\n"
   ]
  },
  {
   "cell_type": "code",
   "execution_count": 1,
   "id": "strange-creativity",
   "metadata": {},
   "outputs": [],
   "source": [
    "import torch\n",
    "import torch.optim as optim\n",
    "import torch.nn.functional as F\n",
    "import torchvision\n",
    "import torchvision.datasets as datasets\n",
    "import torchvision.models as models\n",
    "import torchvision.transforms as transforms\n",
    "import glob\n",
    "import PIL.Image\n",
    "import os\n",
    "import numpy as np\n",
    "# IPython Libraries for display and widgets\n",
    "import traitlets\n",
    "import ipywidgets.widgets as widgets\n",
    "from IPython.display import display\n",
    "\n",
    "# Camera and Motor Interface for JetBot\n",
    "from jetbot import Robot, Camera, bgr8_to_jpeg\n",
    "\n",
    "# Basic Python packages for image annotation\n",
    "from uuid import uuid1\n",
    "import os\n",
    "import json\n",
    "import glob\n",
    "import datetime\n",
    "import numpy as np\n",
    "import cv2\n",
    "import time\n",
    "import torch\n",
    "import torch.optim as optim\n",
    "import torch.nn.functional as F\n",
    "import torchvision\n",
    "import torchvision.datasets as datasets\n",
    "import torchvision.models as models\n",
    "from torch.utils.data import DataLoader\n",
    "\n",
    "import torchvision.transforms as transforms\n",
    "import glob\n",
    "import PIL.Image\n",
    "import os\n",
    "import numpy as np\n",
    "import torch.nn.functional as F\n",
    "import torch\n",
    "import torch.optim as optim\n",
    "import torch.nn.functional as F\n",
    "import torchvision\n",
    "import torchvision.datasets as datasets\n",
    "import torchvision.models as models\n",
    "import torchvision.transforms as transforms\n",
    "import glob\n",
    "import PIL.Image\n",
    "import os\n",
    "import numpy as np\n",
    "import torch.nn as nn\n",
    "import ipywidgets as widgets\n",
    "from IPython.display import display\n",
    "import csv\n",
    "import ipywidgets as widgets\n",
    "from jetbot import Robot\n",
    "import numpy as np\n",
    "from datetime import datetime\n",
    "from jetbot import Camera, bgr8_to_jpeg\n",
    "import torch\n",
    "import cv2\n",
    "import traitlets\n",
    "import numpy as np\n",
    "from jetbot import Camera, bgr8_to_jpeg\n",
    "from torchvision import models, transforms\n",
    "from ipywidgets import widgets\n",
    "from IPython.display import display\n",
    "import time\n",
    "import torch\n",
    "import cv2\n",
    "import traitlets\n",
    "import numpy as np\n",
    "from jetbot import Camera, bgr8_to_jpeg\n",
    "from torchvision import models, transforms\n",
    "from ipywidgets import widgets\n",
    "from IPython.display import display\n",
    "import time\n",
    "import ipywidgets"
   ]
  },
  {
   "cell_type": "code",
   "execution_count": 7,
   "id": "entertaining-albany",
   "metadata": {},
   "outputs": [
    {
     "data": {
      "application/vnd.jupyter.widget-view+json": {
       "model_id": "b0c93ad68e9448ff872404d7231ba82d",
       "version_major": 2,
       "version_minor": 0
      },
      "text/plain": [
       "Image(value=b'', format='jpeg', height='224', width='224')"
      ]
     },
     "metadata": {},
     "output_type": "display_data"
    },
    {
     "name": "stdout",
     "output_type": "stream",
     "text": [
      "cuda\n"
     ]
    }
   ],
   "source": [
    "import time\n",
    "import torch\n",
    "import torchvision.transforms as transforms\n",
    "import cv2\n",
    "import numpy as np\n",
    "from jetbot import Camera\n",
    "import ipywidgets as widgets\n",
    "from IPython.display import display\n",
    "\n",
    "# 設定相機和 widget\n",
    "camera = Camera.instance(width=224, height=224, fps=5)\n",
    "widget_width = 224\n",
    "widget_height = 224\n",
    "image_widget = widgets.Image(format='jpeg', width=widget_width, height=widget_height)\n",
    "\n",
    "# 顯示 widget\n",
    "display(image_widget)\n",
    "\n",
    "# 設定裝置 (若有 GPU 可用)\n",
    "device = torch.device(\"cuda\" if torch.cuda.is_available() else \"cpu\")\n",
    "print(device)\n",
    "\n",
    "# 加載模型\n",
    "model = torchvision.models.resnet34()\n",
    "model.fc = torch.nn.Linear(model.fc.in_features, 2)\n",
    "model.load_state_dict(torch.load(\"resnet34_final.pth\"))\n",
    "model = model.to(device)\n",
    "model.eval()  # 將模型設定為推論模式\n",
    "\n",
    "def execute(change):\n",
    "    image = change['new']\n",
    "    transform = transforms.Compose([\n",
    "        transforms.ToTensor(),\n",
    "        transforms.Normalize([0.4691, 0.4032, 0.4579], [0.1740, 0.1485, 0.1688])\n",
    "    ])\n",
    "    input_tensor = transform(image).unsqueeze(0).to(device)\n",
    "    \n",
    "    with torch.no_grad():\n",
    "        output = model(input_tensor)\n",
    "        x, y = output[0].cpu().numpy()\n",
    "\n",
    "    # 映射預測的 (x, y) 到圖片的像素坐標，假設 x 和 y 是 [0, 1] 範圍內的預測\n",
    "    x_pixel =int( x* widget_width / 2 + widget_width / 2)\n",
    "    y_pixel =int(y * widget_height / 2 + widget_height / 2)\n",
    "    \n",
    "    # 在圖片上繪製預測結果\n",
    "    image = cv2.cvtColor(image, cv2.COLOR_RGB2BGR)  # 確保格式正確\n",
    "    cv2.circle(image, (x_pixel, y_pixel), 5, (0, 255, 0), -1)  # 綠色點表示預測位置\n",
    "    \n",
    "    # 更新 widget 顯示處理後的圖片\n",
    "    image_widget.value = bgr8_to_jpeg(image)\n",
    "\n",
    "# 測試執行一次\n",
    "execute({'new': camera.value})\n"
   ]
  },
  {
   "cell_type": "markdown",
   "id": "running-commitment",
   "metadata": {},
   "source": [
    "# 開始偵測"
   ]
  },
  {
   "cell_type": "code",
   "execution_count": 8,
   "id": "alive-recording",
   "metadata": {},
   "outputs": [],
   "source": [
    "# 監聽相機數據變化並執行預測\n",
    "camera.observe(execute, names='value')"
   ]
  },
  {
   "cell_type": "markdown",
   "id": "orange-tomorrow",
   "metadata": {},
   "source": [
    "# 關閉偵測\n"
   ]
  },
  {
   "cell_type": "code",
   "execution_count": 9,
   "id": "phantom-institute",
   "metadata": {},
   "outputs": [],
   "source": [
    "camera.unobserve(execute, names='value')"
   ]
  },
  {
   "cell_type": "code",
   "execution_count": 6,
   "id": "middle-organization",
   "metadata": {},
   "outputs": [],
   "source": [
    "camera.stop()"
   ]
  },
  {
   "cell_type": "code",
   "execution_count": null,
   "id": "coordinate-scroll",
   "metadata": {},
   "outputs": [],
   "source": []
  }
 ],
 "metadata": {
  "kernelspec": {
   "display_name": "Python 3",
   "language": "python",
   "name": "python3"
  },
  "language_info": {
   "codemirror_mode": {
    "name": "ipython",
    "version": 3
   },
   "file_extension": ".py",
   "mimetype": "text/x-python",
   "name": "python",
   "nbconvert_exporter": "python",
   "pygments_lexer": "ipython3",
   "version": "3.6.9"
  }
 },
 "nbformat": 4,
 "nbformat_minor": 5
}
