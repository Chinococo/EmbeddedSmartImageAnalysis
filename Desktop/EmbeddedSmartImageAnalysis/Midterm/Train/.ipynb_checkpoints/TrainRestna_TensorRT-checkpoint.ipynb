{
 "nbformat": 4,
 "nbformat_minor": 0,
 "metadata": {
  "colab": {
   "provenance": [],
   "gpuType": "T4"
  },
  "kernelspec": {
   "name": "python3",
   "display_name": "Python 3 (ipykernel)",
   "language": "python"
  },
  "language_info": {
   "name": "python"
  },
  "accelerator": "GPU"
 },
 "cells": [
  {
   "cell_type": "markdown",
   "source": [
    "# 解壓縮"
   ],
   "metadata": {
    "id": "uhXnDkISVlwt"
   }
  },
  {
   "cell_type": "code",
   "source": [
    "!rm -rf dataset_xy\n",
    "!rm -rf output\n",
    "!unzip -q road_following_dataset_xy_2024-11-03_12-08-48.zip"
   ],
   "metadata": {
    "id": "lZvXpWVlF7YM"
   },
   "outputs": [],
   "execution_count": null
  },
  {
   "cell_type": "markdown",
   "source": [
    "# 函式庫"
   ],
   "metadata": {
    "id": "CO7CCWuwVp88"
   }
  },
  {
   "metadata": {},
   "cell_type": "code",
   "source": [
    "!pip uninstall scipy\n",
    "\n",
    "\n"
   ],
   "outputs": [],
   "execution_count": null
  },
  {
   "metadata": {
    "ExecuteTime": {
     "end_time": "2024-11-05T16:26:58.029104Z",
     "start_time": "2024-11-05T16:26:52.541796Z"
    }
   },
   "cell_type": "code",
   "source": "!pip install scipy",
   "outputs": [
    {
     "name": "stdout",
     "output_type": "stream",
     "text": [
      "Looking in indexes: https://mirror.sjtu.edu.cn/pypi/web/simple\n",
      "Requirement already satisfied: scipy in c:\\users\\chino\\appdata\\local\\packages\\pythonsoftwarefoundation.python.3.10_qbz5n2kfra8p0\\localcache\\local-packages\\python310\\site-packages (1.14.1)\n",
      "Requirement already satisfied: numpy<2.3,>=1.23.5 in c:\\users\\chino\\appdata\\local\\packages\\pythonsoftwarefoundation.python.3.10_qbz5n2kfra8p0\\localcache\\local-packages\\python310\\site-packages (from scipy) (1.24.3)\n"
     ]
    },
    {
     "name": "stderr",
     "output_type": "stream",
     "text": [
      "\n",
      "[notice] A new release of pip is available: 23.0.1 -> 24.3.1\n",
      "[notice] To update, run: C:\\Users\\Chino\\AppData\\Local\\Microsoft\\WindowsApps\\PythonSoftwareFoundation.Python.3.10_qbz5n2kfra8p0\\python.exe -m pip install --upgrade pip\n"
     ]
    }
   ],
   "execution_count": 4
  },
  {
   "metadata": {
    "ExecuteTime": {
     "end_time": "2024-11-05T16:29:18.966257Z",
     "start_time": "2024-11-05T16:29:11.824622Z"
    }
   },
   "cell_type": "code",
   "source": "!pip3 install torch==2.5.0 torchvision==0.20.0 torchaudio==2.5.0 --index-url https://download.pytorch.org/whl/cu121",
   "outputs": [
    {
     "name": "stdout",
     "output_type": "stream",
     "text": [
      "Looking in indexes: https://download.pytorch.org/whl/cu121\n",
      "Requirement already satisfied: torch==2.5.0 in c:\\users\\chino\\appdata\\local\\packages\\pythonsoftwarefoundation.python.3.10_qbz5n2kfra8p0\\localcache\\local-packages\\python310\\site-packages (2.5.0+cu121)\n",
      "Requirement already satisfied: torchvision==0.20.0 in c:\\users\\chino\\appdata\\local\\packages\\pythonsoftwarefoundation.python.3.10_qbz5n2kfra8p0\\localcache\\local-packages\\python310\\site-packages (0.20.0+cu121)\n",
      "Requirement already satisfied: torchaudio==2.5.0 in c:\\users\\chino\\appdata\\local\\packages\\pythonsoftwarefoundation.python.3.10_qbz5n2kfra8p0\\localcache\\local-packages\\python310\\site-packages (2.5.0+cu121)\n",
      "Requirement already satisfied: filelock in c:\\users\\chino\\appdata\\local\\packages\\pythonsoftwarefoundation.python.3.10_qbz5n2kfra8p0\\localcache\\local-packages\\python310\\site-packages (from torch==2.5.0) (3.13.4)\n",
      "Requirement already satisfied: typing-extensions>=4.8.0 in c:\\users\\chino\\appdata\\local\\packages\\pythonsoftwarefoundation.python.3.10_qbz5n2kfra8p0\\localcache\\local-packages\\python310\\site-packages (from torch==2.5.0) (4.11.0)\n",
      "Requirement already satisfied: sympy==1.13.1 in c:\\users\\chino\\appdata\\local\\packages\\pythonsoftwarefoundation.python.3.10_qbz5n2kfra8p0\\localcache\\local-packages\\python310\\site-packages (from torch==2.5.0) (1.13.1)\n",
      "Requirement already satisfied: jinja2 in c:\\users\\chino\\appdata\\local\\packages\\pythonsoftwarefoundation.python.3.10_qbz5n2kfra8p0\\localcache\\local-packages\\python310\\site-packages (from torch==2.5.0) (3.1.4)\n",
      "Requirement already satisfied: networkx in c:\\users\\chino\\appdata\\local\\packages\\pythonsoftwarefoundation.python.3.10_qbz5n2kfra8p0\\localcache\\local-packages\\python310\\site-packages (from torch==2.5.0) (3.3)\n",
      "Requirement already satisfied: fsspec in c:\\users\\chino\\appdata\\local\\packages\\pythonsoftwarefoundation.python.3.10_qbz5n2kfra8p0\\localcache\\local-packages\\python310\\site-packages (from torch==2.5.0) (2024.3.1)\n",
      "Requirement already satisfied: numpy in c:\\users\\chino\\appdata\\local\\packages\\pythonsoftwarefoundation.python.3.10_qbz5n2kfra8p0\\localcache\\local-packages\\python310\\site-packages (from torchvision==0.20.0) (1.24.3)\n",
      "Requirement already satisfied: pillow!=8.3.*,>=5.3.0 in c:\\users\\chino\\appdata\\local\\packages\\pythonsoftwarefoundation.python.3.10_qbz5n2kfra8p0\\localcache\\local-packages\\python310\\site-packages (from torchvision==0.20.0) (9.4.0)\n",
      "Requirement already satisfied: mpmath<1.4,>=1.1.0 in c:\\users\\chino\\appdata\\local\\packages\\pythonsoftwarefoundation.python.3.10_qbz5n2kfra8p0\\localcache\\local-packages\\python310\\site-packages (from sympy==1.13.1->torch==2.5.0) (1.3.0)\n",
      "Requirement already satisfied: MarkupSafe>=2.0 in c:\\users\\chino\\appdata\\local\\packages\\pythonsoftwarefoundation.python.3.10_qbz5n2kfra8p0\\localcache\\local-packages\\python310\\site-packages (from jinja2->torch==2.5.0) (2.1.5)\n"
     ]
    },
    {
     "name": "stderr",
     "output_type": "stream",
     "text": [
      "\n",
      "[notice] A new release of pip is available: 23.0.1 -> 24.3.1\n",
      "[notice] To update, run: C:\\Users\\Chino\\AppData\\Local\\Microsoft\\WindowsApps\\PythonSoftwareFoundation.Python.3.10_qbz5n2kfra8p0\\python.exe -m pip install --upgrade pip\n"
     ]
    }
   ],
   "execution_count": 10
  },
  {
   "cell_type": "code",
   "metadata": {
    "id": "WytwDlFLzzao",
    "ExecuteTime": {
     "end_time": "2024-11-05T16:43:38.687602Z",
     "start_time": "2024-11-05T16:43:38.677907Z"
    }
   },
   "source": [
    "import torch\n",
    "import torch.optim as optim\n",
    "import torch.nn.functional as F\n",
    "import torchvision\n",
    "import torchvision.datasets as datasets\n",
    "import torchvision.models as models\n",
    "from torch.utils.data import DataLoader\n",
    "\n",
    "import torchvision.transforms as transforms\n",
    "import glob\n",
    "import PIL.Image\n",
    "import os\n",
    "import numpy as np\n",
    "import torch.nn.functional as F\n",
    "import torch\n",
    "import torch.optim as optim\n",
    "import torch.nn.functional as F\n",
    "import torchvision\n",
    "import torchvision.datasets as datasets\n",
    "import torchvision.models as models\n",
    "import torchvision.transforms as transforms\n",
    "import glob\n",
    "import PIL.Image\n",
    "import os\n",
    "import numpy as np\n",
    "import torch.nn as nn\n"
   ],
   "outputs": [],
   "execution_count": 18
  },
  {
   "cell_type": "markdown",
   "source": [
    "# 檔案格式解碼\n"
   ],
   "metadata": {
    "id": "l3HVnfr7V0rZ"
   }
  },
  {
   "cell_type": "code",
   "source": [
    "def get_x(path, width):\n",
    "    \"\"\"Gets the x value from the image filename\"\"\"\n",
    "    return (float(int(path.split(\"_\")[1])) - width/2) / (width/2)\n",
    "\n",
    "def get_y(path, height):\n",
    "    \"\"\"Gets the y value from the image filename\"\"\"\n",
    "    return int(path.split(\"_\")[2])//height\n",
    "\n",
    "class XYDataset(torch.utils.data.Dataset):\n",
    "\n",
    "    def __init__(self, directory, random_hflips=False):\n",
    "        self.directory = directory\n",
    "        self.random_hflips = random_hflips\n",
    "        self.image_paths = glob.glob(os.path.join(self.directory, '*.jpg'))\n",
    "        self.color_jitter = transforms.ColorJitter(0.3, 0.3, 0.3, 0.3)\n",
    "\n",
    "    def __len__(self):\n",
    "        return len(self.image_paths)\n",
    "\n",
    "    def __getitem__(self, idx):\n",
    "        image_path = self.image_paths[idx]\n",
    "\n",
    "        image = PIL.Image.open(image_path)\n",
    "        width, height = image.size\n",
    "        x = float(get_x(os.path.basename(image_path), width))\n",
    "        y = float(get_y(os.path.basename(image_path), height))\n",
    "\n",
    "        if float(np.random.rand(1)) > 0.5:\n",
    "            image = transforms.functional.hflip(image)\n",
    "            x = -x\n",
    "\n",
    "        image = self.color_jitter(image)\n",
    "        image = transforms.functional.resize(image, (224, 134))\n",
    "        image = transforms.functional.to_tensor(image)\n",
    "        image = image.numpy()[::-1].copy()\n",
    "        image = torch.from_numpy(image)\n",
    "        image = transforms.functional.normalize(image, [0.485, 0.456, 0.406], [0.229, 0.224, 0.225])\n",
    "\n",
    "        return image, torch.tensor([x, y]).float()\n",
    "\n",
    "dataset = XYDataset('1100-1', random_hflips=False)"
   ],
   "metadata": {
    "id": "Gnx-I27T0p03",
    "ExecuteTime": {
     "end_time": "2024-11-05T16:38:41.875612Z",
     "start_time": "2024-11-05T16:38:41.847252Z"
    }
   },
   "outputs": [],
   "execution_count": 14
  },
  {
   "cell_type": "markdown",
   "source": [
    "# 區分訓練集\n"
   ],
   "metadata": {
    "id": "uo-5PILaDyPR"
   }
  },
  {
   "cell_type": "code",
   "source": [
    "test_percent = 0.2\n",
    "num_test = int(test_percent * len(dataset))\n",
    "train_dataset, test_dataset = torch.utils.data.random_split(dataset, [len(dataset) - num_test, num_test])\n",
    "train_loader = torch.utils.data.DataLoader(\n",
    "    train_dataset,\n",
    "    batch_size=8,\n",
    "    shuffle=True,\n",
    "    num_workers=0\n",
    ")\n",
    "\n",
    "test_loader = torch.utils.data.DataLoader(\n",
    "    test_dataset,\n",
    "    batch_size=8,\n",
    "    shuffle=True,\n",
    "    num_workers=0\n",
    ")"
   ],
   "metadata": {
    "id": "Z-W1o2SDDyAC",
    "ExecuteTime": {
     "end_time": "2024-11-05T16:38:45.816213Z",
     "start_time": "2024-11-05T16:38:45.806333Z"
    }
   },
   "outputs": [],
   "execution_count": 15
  },
  {
   "cell_type": "markdown",
   "source": [
    "# 提早結束\n"
   ],
   "metadata": {
    "id": "m3AHKBbGD8iI"
   }
  },
  {
   "cell_type": "code",
   "source": [
    "class EarlyStopping:\n",
    "    def __init__(self, patience=5, min_delta=0.001):\n",
    "        self.patience = patience\n",
    "        self.min_delta = min_delta\n",
    "        self.best_loss = float('inf')\n",
    "        self.counter = 0\n",
    "        self.early_stop = False\n",
    "\n",
    "    def __call__(self, val_loss):\n",
    "        if self.best_loss - val_loss > self.min_delta:\n",
    "            self.best_loss = val_loss\n",
    "            self.counter = 0\n",
    "        else:\n",
    "            self.counter += 1\n",
    "            if self.counter >= self.patience:\n",
    "                self.early_stop = True\n"
   ],
   "metadata": {
    "id": "iI_oewCpD__a",
    "ExecuteTime": {
     "end_time": "2024-11-05T16:38:48.457081Z",
     "start_time": "2024-11-05T16:38:48.448854Z"
    }
   },
   "outputs": [],
   "execution_count": 16
  },
  {
   "cell_type": "markdown",
   "source": [
    "# 訓練\n"
   ],
   "metadata": {
    "id": "CKF4PMNbV3_L"
   }
  },
  {
   "metadata": {
    "ExecuteTime": {
     "end_time": "2024-11-05T16:38:51.574532Z",
     "start_time": "2024-11-05T16:38:51.567268Z"
    }
   },
   "cell_type": "code",
   "source": [
    "import torch\n",
    "print(torch.__version__)\n",
    "print(torch.version.cuda)  # 查看 PyTorch 所使用的 CUDA 版本\n",
    "print(torch.cuda.is_available())  # 檢查是否可使用 CUDA\n"
   ],
   "outputs": [
    {
     "name": "stdout",
     "output_type": "stream",
     "text": [
      "2.5.1+cpu\n",
      "None\n",
      "False\n"
     ]
    }
   ],
   "execution_count": 17
  },
  {
   "cell_type": "code",
   "source": [
    "from sklearn.model_selection import train_test_split\n",
    "from torch.utils.data import Subset\n",
    "import scipy\n",
    "\n",
    "# 將資料集切分為訓練集和驗證集\n",
    "full_dataset = XYDataset('dataset_xy', random_hflips=False)\n",
    "\n",
    "save_path = \"output\"\n",
    "\n",
    "# 訓練與驗證函數更新\n",
    "def train_and_validate_model(model, model_name, save_path):\n",
    "    learning_rate = 1e-5\n",
    "    NUM_EPOCHS = 50\n",
    "    best_loss = 1e9\n",
    "\n",
    "    model.fc = nn.Linear(512, 2)\n",
    "    device = torch.device(\"cuda\" if torch.cuda.is_available() else \"cpu\")\n",
    "    print(device)\n",
    "    model = model.to(device)\n",
    "    optimizer = optim.Adam(model.parameters(), lr=learning_rate)\n",
    "    early_stopping = EarlyStopping(patience=10, min_delta=0.001)  # 設置 Early Stopping\n",
    "\n",
    "    for epoch in range(NUM_EPOCHS):\n",
    "        model.train()\n",
    "        train_loss = 0.0\n",
    "        for images, labels in iter(train_loader):\n",
    "            images = images.to(device)\n",
    "            labels = labels.to(device)\n",
    "            optimizer.zero_grad()\n",
    "            outputs = model(images)\n",
    "            loss = F.mse_loss(outputs, labels)\n",
    "            train_loss += loss.item()\n",
    "            loss.backward()\n",
    "            optimizer.step()\n",
    "        train_loss /= len(train_loader)\n",
    "\n",
    "        model.eval()\n",
    "        val_loss = 0.0\n",
    "        with torch.no_grad():\n",
    "            for images, labels in iter(test_loader):\n",
    "                images = images.to(device)\n",
    "                labels = labels.to(device)\n",
    "                outputs = model(images)\n",
    "                loss = F.mse_loss(outputs, labels)\n",
    "                val_loss += loss.item()\n",
    "        val_loss /= len(test_loader)\n",
    "\n",
    "        print(f'Epoch {epoch+1}/{NUM_EPOCHS}, Train Loss: {train_loss:.4f}, Val Loss: {val_loss:.4f}')\n",
    "\n",
    "        if val_loss < best_loss:\n",
    "            #torch.save(model.state_dict(), f'{save_path}/{model_name}_best.pth')\n",
    "            best_loss = val_loss\n",
    "\n",
    "        # 檢查 Early Stopping 條件\n",
    "        early_stopping(val_loss)\n",
    "        if early_stopping.early_stop:\n",
    "            print(\"Early stopping triggered\")\n",
    "            break\n",
    "\n",
    "    # 最終模型存檔\n",
    "    final_model_path = f'{save_path}/{model_name}_{NUM_EPOCHS}_{learning_rate}_.pth'\n",
    "    torch.save(model.state_dict(), final_model_path)\n",
    "    print(f'{model_name} 已存檔至 {final_model_path}')\n",
    "\n",
    "\n",
    "# 修改 `train_and_save_model` 的呼叫來傳遞新的 `train_loader` 和 `val_loader`\n",
    "#resnet50 = models.resnet50(pretrained=True)\n",
    "resnet18 = models.resnet18(pretrained=True)\n",
    "#resnet34 = models.resnet34(pretrained=True)\n",
    "#train_and_validate_model(resnet34, 'resnet34', save_path)\n",
    "#train_and_validate_model(resnet50, 'resnet50', save_path)\n",
    "train_and_validate_model(resnet18, 'resnet18', save_path)"
   ],
   "metadata": {
    "colab": {
     "base_uri": "https://localhost:8080/"
    },
    "id": "BH6V0l4p0vVL",
    "outputId": "3d937efd-aba6-4024-a849-9bf4b226d858",
    "ExecuteTime": {
     "end_time": "2024-11-05T11:07:28.649038Z",
     "start_time": "2024-11-05T10:55:29.382361Z"
    }
   },
   "outputs": [
    {
     "name": "stdout",
     "output_type": "stream",
     "text": [
      "cuda\n"
     ]
    },
    {
     "name": "stderr",
     "output_type": "stream",
     "text": [
      "C:\\Users\\Chino\\AppData\\Local\\Temp\\ipykernel_64568\\579247679.py:28: DeprecationWarning: Conversion of an array with ndim > 0 to a scalar is deprecated, and will error in future. Ensure you extract a single element from your array before performing this operation. (Deprecated NumPy 1.25.)\n",
      "  if float(np.random.rand(1)) > 0.5:\n"
     ]
    },
    {
     "name": "stdout",
     "output_type": "stream",
     "text": [
      "Epoch 1/50, Train Loss: 0.4264, Val Loss: 0.2462\n",
      "Epoch 2/50, Train Loss: 0.1322, Val Loss: 0.1218\n",
      "Epoch 3/50, Train Loss: 0.0854, Val Loss: 0.0906\n",
      "Epoch 4/50, Train Loss: 0.0709, Val Loss: 0.0787\n",
      "Epoch 5/50, Train Loss: 0.0636, Val Loss: 0.0699\n",
      "Epoch 6/50, Train Loss: 0.0556, Val Loss: 0.0571\n",
      "Epoch 7/50, Train Loss: 0.0529, Val Loss: 0.0473\n",
      "Epoch 8/50, Train Loss: 0.0506, Val Loss: 0.0499\n",
      "Epoch 9/50, Train Loss: 0.0505, Val Loss: 0.0521\n",
      "Epoch 10/50, Train Loss: 0.0421, Val Loss: 0.0492\n",
      "Epoch 11/50, Train Loss: 0.0437, Val Loss: 0.0418\n",
      "Epoch 12/50, Train Loss: 0.0379, Val Loss: 0.0418\n",
      "Epoch 13/50, Train Loss: 0.0393, Val Loss: 0.0342\n",
      "Epoch 14/50, Train Loss: 0.0383, Val Loss: 0.0321\n",
      "Epoch 15/50, Train Loss: 0.0338, Val Loss: 0.0359\n",
      "Epoch 16/50, Train Loss: 0.0332, Val Loss: 0.0308\n",
      "Epoch 17/50, Train Loss: 0.0295, Val Loss: 0.0289\n",
      "Epoch 18/50, Train Loss: 0.0295, Val Loss: 0.0293\n",
      "Epoch 19/50, Train Loss: 0.0347, Val Loss: 0.0292\n",
      "Epoch 20/50, Train Loss: 0.0275, Val Loss: 0.0251\n",
      "Epoch 21/50, Train Loss: 0.0255, Val Loss: 0.0264\n",
      "Epoch 22/50, Train Loss: 0.0237, Val Loss: 0.0264\n",
      "Epoch 23/50, Train Loss: 0.0261, Val Loss: 0.0246\n",
      "Epoch 24/50, Train Loss: 0.0249, Val Loss: 0.0219\n",
      "Epoch 25/50, Train Loss: 0.0264, Val Loss: 0.0222\n",
      "Epoch 26/50, Train Loss: 0.0225, Val Loss: 0.0204\n",
      "Epoch 27/50, Train Loss: 0.0251, Val Loss: 0.0198\n",
      "Epoch 28/50, Train Loss: 0.0224, Val Loss: 0.0189\n",
      "Epoch 29/50, Train Loss: 0.0220, Val Loss: 0.0203\n",
      "Epoch 30/50, Train Loss: 0.0226, Val Loss: 0.0175\n",
      "Epoch 31/50, Train Loss: 0.0211, Val Loss: 0.0175\n",
      "Epoch 32/50, Train Loss: 0.0217, Val Loss: 0.0233\n",
      "Epoch 33/50, Train Loss: 0.0189, Val Loss: 0.0162\n",
      "Epoch 34/50, Train Loss: 0.0193, Val Loss: 0.0172\n",
      "Epoch 35/50, Train Loss: 0.0177, Val Loss: 0.0157\n",
      "Epoch 36/50, Train Loss: 0.0174, Val Loss: 0.0170\n",
      "Epoch 37/50, Train Loss: 0.0189, Val Loss: 0.0154\n",
      "Epoch 38/50, Train Loss: 0.0163, Val Loss: 0.0167\n",
      "Epoch 39/50, Train Loss: 0.0171, Val Loss: 0.0151\n",
      "Epoch 40/50, Train Loss: 0.0154, Val Loss: 0.0140\n",
      "Epoch 41/50, Train Loss: 0.0149, Val Loss: 0.0148\n",
      "Epoch 42/50, Train Loss: 0.0129, Val Loss: 0.0140\n",
      "Epoch 43/50, Train Loss: 0.0131, Val Loss: 0.0138\n",
      "Epoch 44/50, Train Loss: 0.0129, Val Loss: 0.0124\n",
      "Epoch 45/50, Train Loss: 0.0133, Val Loss: 0.0122\n",
      "Epoch 46/50, Train Loss: 0.0109, Val Loss: 0.0145\n",
      "Epoch 47/50, Train Loss: 0.0113, Val Loss: 0.0109\n",
      "Epoch 48/50, Train Loss: 0.0115, Val Loss: 0.0126\n",
      "Epoch 49/50, Train Loss: 0.0108, Val Loss: 0.0117\n",
      "Epoch 50/50, Train Loss: 0.0106, Val Loss: 0.0118\n",
      "resnet18 已存檔至 output/resnet18_50_1e-05_.pth\n"
     ]
    }
   ],
   "execution_count": 8
  },
  {
   "metadata": {},
   "cell_type": "code",
   "source": "",
   "outputs": [],
   "execution_count": null
  },
  {
   "cell_type": "markdown",
   "source": [
    "# TensorRT\n"
   ],
   "metadata": {
    "id": "OQ4mtEET-l0O"
   }
  },
  {
   "cell_type": "markdown",
   "source": [
    "## 安裝\n"
   ],
   "metadata": {
    "id": "TjKLHwGyiP7-"
   }
  },
  {
   "cell_type": "code",
   "source": [
    "!rm -rf build/\n",
    "!rm -rf dist/\n",
    "!rm -rf torch2trt.egg-info/\n",
    "!rm -rf torch2trt/"
   ],
   "metadata": {
    "id": "GLyYFKQdtWpd"
   },
   "outputs": [],
   "execution_count": null
  },
  {
   "cell_type": "code",
   "source": [
    "!dpkg -l | grep nvinfer\n",
    "!sudo apt-get update\n",
    "!sudo apt-get install -y tensorrt python3-libnvinfer-dev\n",
    "!sudo apt-get update\n",
    "!sudo apt-get install -y libnvinfer8 libnvinfer-plugin8 libnvparsers8 libnvonnxparsers8 libnvinfer-dev python3-libnvinfer\n",
    "!sudo apt-get install python3-libnvinfer\n",
    "!python3 -m pip install --upgrade tensorrt"
   ],
   "metadata": {
    "id": "n8c1txbOh5fr",
    "colab": {
     "base_uri": "https://localhost:8080/"
    },
    "outputId": "fd7b412e-87c4-4d65-f7f3-797c456cb5bf"
   },
   "outputs": [],
   "execution_count": null
  },
  {
   "cell_type": "code",
   "source": [
    "import tensorrt\n",
    "print(tensorrt.__version__)\n",
    "assert tensorrt.Builder(tensorrt.Logger())"
   ],
   "metadata": {
    "colab": {
     "base_uri": "https://localhost:8080/",
     "height": 350
    },
    "id": "icgwrR9ZjtxU",
    "outputId": "4d24490e-96a9-4542-d01f-0d38614f0fdb"
   },
   "outputs": [],
   "execution_count": null
  },
  {
   "cell_type": "code",
   "source": [
    "!pip3 install git+https://github.com/NVIDIA-AI-IOT/torch2trt.git --target=/usr/lib/python3/dist-packages/\n"
   ],
   "metadata": {
    "id": "HuPfUClNvGvf"
   },
   "outputs": [],
   "execution_count": null
  },
  {
   "cell_type": "code",
   "source": [
    "try:\n",
    "    from torch2trt import torch2trt\n",
    "    print(\"torch2trt has been successfully imported.\")\n",
    "except ModuleNotFoundError as e:\n",
    "    print(\"Module not found:\", e)\n"
   ],
   "metadata": {
    "id": "hWY4gCG6u03N"
   },
   "outputs": [],
   "execution_count": null
  },
  {
   "cell_type": "code",
   "source": [
    "import torchvision\n",
    "import torch\n",
    "\n",
    "model = torchvision.models.resnet18(pretrained=False)\n",
    "model.fc = torch.nn.Linear(512, 2)\n",
    "model = model.cuda().eval().half()\n",
    "model.load_state_dict(torch.load('output/resnet18_lr1e-05_epochs40_batch16.pth'))\n",
    "device = torch.device('cuda')\n",
    "from torch2trt import torch2trt\n",
    "\n",
    "data = torch.zeros((1, 3, 224, 224)).cuda().half()\n",
    "\n",
    "model_trt = torch2trt(model, [data], fp16_mode=True)\n",
    "torch.save(model_trt.state_dict(), 'output/resnet18_lr1e-05_epochs40_batch16_trt.pth')"
   ],
   "metadata": {
    "id": "usF1VG4o2J6-",
    "colab": {
     "base_uri": "https://localhost:8080/",
     "height": 439
    },
    "outputId": "da09b939-4eea-4df2-f66c-abc7719e10a0"
   },
   "outputs": [],
   "execution_count": null
  },
  {
   "cell_type": "code",
   "source": [
    "# Compress the 'output' folder into a zip file in Colab\n",
    "!zip -r output.zip output/\n"
   ],
   "metadata": {
    "id": "Z1AE-5cN898e",
    "colab": {
     "base_uri": "https://localhost:8080/"
    },
    "outputId": "451584f2-7c19-4343-c101-b9ec87910b94"
   },
   "outputs": [],
   "execution_count": null
  },
  {
   "cell_type": "markdown",
   "source": [],
   "metadata": {
    "id": "XJl0DWlF2JJV"
   }
  }
 ]
}
