{
 "cells": [
  {
   "cell_type": "code",
   "id": "initial_id",
   "metadata": {
    "collapsed": true
   },
   "source": [
    ""
   ],
   "outputs": [],
   "execution_count": null
  },
  {
   "metadata": {},
   "cell_type": "code",
   "source": [
    "import torch\n",
    "import torchvision.models as models\n",
    "\n",
    "# 指定 .pth 檔案路徑\n",
    "model_path = '../Result/resnet18_1600_v4.pth'\n",
    "\n",
    "# 儲存模型的權重\n",
    "model = models.resnet18()\n",
    "torch.save(model.state_dict(), model_path)  # 保存的檔案將僅包含權重\n",
    "\n",
    "# 建立 ResNet-18 模型結構並載入權重\n",
    "model = models.resnet18()\n",
    "model.load_state_dict(torch.load(model_path, map_location='cpu'))  # 只載入權重\n",
    "\n",
    "# 定義一個函數來檢查權重的資料型別\n",
    "def check_dtype(model):\n",
    "    for name, param in model.named_parameters():\n",
    "        dtype = param.dtype\n",
    "        print(f\"Layer: {name}, Data Type: {dtype}\")\n",
    "\n",
    "# 呼叫函數檢查模型的資料型別\n",
    "check_dtype(model)\n"
   ],
   "id": "99e45913059e0c95",
   "outputs": [],
   "execution_count": null
  },
  {
   "metadata": {},
   "cell_type": "markdown",
   "source": "",
   "id": "1dced156fbac047e"
  },
  {
   "metadata": {},
   "cell_type": "code",
   "source": "",
   "id": "c6823c4e893dc9fd",
   "outputs": [],
   "execution_count": null
  }
 ],
 "metadata": {
  "kernelspec": {
   "display_name": "Python 3",
   "language": "python",
   "name": "python3"
  },
  "language_info": {
   "codemirror_mode": {
    "name": "ipython",
    "version": 2
   },
   "file_extension": ".py",
   "mimetype": "text/x-python",
   "name": "python",
   "nbconvert_exporter": "python",
   "pygments_lexer": "ipython2",
   "version": "2.7.6"
  }
 },
 "nbformat": 4,
 "nbformat_minor": 5
}
