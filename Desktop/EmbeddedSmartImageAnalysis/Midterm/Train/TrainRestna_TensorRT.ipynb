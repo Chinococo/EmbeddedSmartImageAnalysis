{
  "nbformat": 4,
  "nbformat_minor": 0,
  "metadata": {
    "colab": {
      "provenance": [],
      "gpuType": "T4"
    },
    "kernelspec": {
      "name": "python3",
      "display_name": "Python 3"
    },
    "language_info": {
      "name": "python"
    },
    "accelerator": "GPU"
  },
  "cells": [
    {
      "cell_type": "markdown",
      "source": [
        "# 解壓縮"
      ],
      "metadata": {
        "id": "uhXnDkISVlwt"
      }
    },
    {
      "cell_type": "code",
      "source": [
        "!rm -rf dataset_xy\n",
        "!rm -rf output\n",
        "!unzip -q road_following_dataset_xy_2024-11-03_12-08-48.zip"
      ],
      "metadata": {
        "id": "lZvXpWVlF7YM"
      },
      "execution_count": 8,
      "outputs": []
    },
    {
      "cell_type": "markdown",
      "source": [
        "# 函式庫"
      ],
      "metadata": {
        "id": "CO7CCWuwVp88"
      }
    },
    {
      "cell_type": "code",
      "execution_count": 9,
      "metadata": {
        "id": "WytwDlFLzzao"
      },
      "outputs": [],
      "source": [
        "import torch\n",
        "import torch.optim as optim\n",
        "import torch.nn.functional as F\n",
        "import torchvision\n",
        "import torchvision.datasets as datasets\n",
        "import torchvision.models as models\n",
        "from torch.utils.data import DataLoader\n",
        "\n",
        "import torchvision.transforms as transforms\n",
        "import glob\n",
        "import PIL.Image\n",
        "import os\n",
        "import numpy as np\n",
        "import torch.nn.functional as F\n",
        "import torch\n",
        "import torch.optim as optim\n",
        "import torch.nn.functional as F\n",
        "import torchvision\n",
        "import torchvision.datasets as datasets\n",
        "import torchvision.models as models\n",
        "import torchvision.transforms as transforms\n",
        "import glob\n",
        "import PIL.Image\n",
        "import os\n",
        "import numpy as np\n",
        "import torch.nn as nn\n"
      ]
    },
    {
      "cell_type": "markdown",
      "source": [
        "# 檔案格式解碼\n"
      ],
      "metadata": {
        "id": "l3HVnfr7V0rZ"
      }
    },
    {
      "cell_type": "code",
      "source": [
        "def get_x(path, width):\n",
        "    \"\"\"Gets the x value from the image filename\"\"\"\n",
        "    return (float(int(path.split(\"_\")[1])) - width/2) / (width/2)\n",
        "\n",
        "def get_y(path, height):\n",
        "    \"\"\"Gets the y value from the image filename\"\"\"\n",
        "    return (float(int(path.split(\"_\")[2])) - height/2) / (height/2)\n",
        "\n",
        "class XYDataset(torch.utils.data.Dataset):\n",
        "\n",
        "    def __init__(self, directory, random_hflips=False):\n",
        "        self.directory = directory\n",
        "        self.random_hflips = random_hflips\n",
        "        self.image_paths = glob.glob(os.path.join(self.directory, '*.jpg'))\n",
        "        self.color_jitter = transforms.ColorJitter(0.3, 0.3, 0.3, 0.3)\n",
        "\n",
        "    def __len__(self):\n",
        "        return len(self.image_paths)\n",
        "\n",
        "    def __getitem__(self, idx):\n",
        "        image_path = self.image_paths[idx]\n",
        "\n",
        "        image = PIL.Image.open(image_path)\n",
        "        width, height = image.size\n",
        "        x = float(get_x(os.path.basename(image_path), width))\n",
        "        y = float(get_y(os.path.basename(image_path), height))\n",
        "\n",
        "        if float(np.random.rand(1)) > 0.5:\n",
        "            image = transforms.functional.hflip(image)\n",
        "            x = -x\n",
        "\n",
        "        image = self.color_jitter(image)\n",
        "        image = transforms.functional.resize(image, (224, 224))\n",
        "        image = transforms.functional.to_tensor(image)\n",
        "        image = image.numpy()[::-1].copy()\n",
        "        image = torch.from_numpy(image)\n",
        "        image = transforms.functional.normalize(image, [0.485, 0.456, 0.406], [0.229, 0.224, 0.225])\n",
        "\n",
        "        return image, torch.tensor([x, y]).float()\n",
        "\n",
        "dataset = XYDataset('dataset_xy', random_hflips=False)"
      ],
      "metadata": {
        "id": "Gnx-I27T0p03"
      },
      "execution_count": 10,
      "outputs": []
    },
    {
      "cell_type": "markdown",
      "source": [
        "# 區分訓練集\n"
      ],
      "metadata": {
        "id": "uo-5PILaDyPR"
      }
    },
    {
      "cell_type": "code",
      "source": [
        "test_percent = 0.2\n",
        "num_test = int(test_percent * len(dataset))\n",
        "train_dataset, test_dataset = torch.utils.data.random_split(dataset, [len(dataset) - num_test, num_test])\n",
        "train_loader = torch.utils.data.DataLoader(\n",
        "    train_dataset,\n",
        "    batch_size=8,\n",
        "    shuffle=True,\n",
        "    num_workers=0\n",
        ")\n",
        "\n",
        "test_loader = torch.utils.data.DataLoader(\n",
        "    test_dataset,\n",
        "    batch_size=8,\n",
        "    shuffle=True,\n",
        "    num_workers=0\n",
        ")"
      ],
      "metadata": {
        "id": "Z-W1o2SDDyAC"
      },
      "execution_count": 12,
      "outputs": []
    },
    {
      "cell_type": "markdown",
      "source": [
        "# 提早結束\n"
      ],
      "metadata": {
        "id": "m3AHKBbGD8iI"
      }
    },
    {
      "cell_type": "code",
      "source": [
        "class EarlyStopping:\n",
        "    def __init__(self, patience=5, min_delta=0.001):\n",
        "        self.patience = patience\n",
        "        self.min_delta = min_delta\n",
        "        self.best_loss = float('inf')\n",
        "        self.counter = 0\n",
        "        self.early_stop = False\n",
        "\n",
        "    def __call__(self, val_loss):\n",
        "        if self.best_loss - val_loss > self.min_delta:\n",
        "            self.best_loss = val_loss\n",
        "            self.counter = 0\n",
        "        else:\n",
        "            self.counter += 1\n",
        "            if self.counter >= self.patience:\n",
        "                self.early_stop = True\n"
      ],
      "metadata": {
        "id": "iI_oewCpD__a"
      },
      "execution_count": 13,
      "outputs": []
    },
    {
      "cell_type": "markdown",
      "source": [
        "# 訓練\n"
      ],
      "metadata": {
        "id": "CKF4PMNbV3_L"
      }
    },
    {
      "cell_type": "code",
      "source": [
        "from sklearn.model_selection import train_test_split\n",
        "from torch.utils.data import Subset\n",
        "\n",
        "\n",
        "# 將資料集切分為訓練集和驗證集\n",
        "full_dataset = XYDataset('dataset_xy', random_hflips=False)\n",
        "\n",
        "save_path = \"output\"\n",
        "\n",
        "# 訓練與驗證函數更新\n",
        "def train_and_validate_model(model, model_name, save_path):\n",
        "    learning_rate = 1e-5\n",
        "    NUM_EPOCHS = 30\n",
        "    best_loss = 1e9\n",
        "\n",
        "    model.fc = nn.Linear(512, 2)\n",
        "    device = torch.device(\"cuda\" if torch.cuda.is_available() else \"cpu\")\n",
        "    model = model.to(device)\n",
        "    optimizer = optim.Adam(model.parameters(), lr=learning_rate)\n",
        "    early_stopping = EarlyStopping(patience=10, min_delta=0.001)  # 設置 Early Stopping\n",
        "\n",
        "    for epoch in range(NUM_EPOCHS):\n",
        "        model.train()\n",
        "        train_loss = 0.0\n",
        "        for images, labels in iter(train_loader):\n",
        "            images = images.to(device)\n",
        "            labels = labels.to(device)\n",
        "            optimizer.zero_grad()\n",
        "            outputs = model(images)\n",
        "            loss = F.mse_loss(outputs, labels)\n",
        "            train_loss += loss.item()\n",
        "            loss.backward()\n",
        "            optimizer.step()\n",
        "        train_loss /= len(train_loader)\n",
        "\n",
        "        model.eval()\n",
        "        val_loss = 0.0\n",
        "        with torch.no_grad():\n",
        "            for images, labels in iter(test_loader):\n",
        "                images = images.to(device)\n",
        "                labels = labels.to(device)\n",
        "                outputs = model(images)\n",
        "                loss = F.mse_loss(outputs, labels)\n",
        "                val_loss += loss.item()\n",
        "        val_loss /= len(test_loader)\n",
        "\n",
        "        print(f'Epoch {epoch+1}/{NUM_EPOCHS}, Train Loss: {train_loss:.4f}, Val Loss: {val_loss:.4f}')\n",
        "\n",
        "        if val_loss < best_loss:\n",
        "            #torch.save(model.state_dict(), f'{save_path}/{model_name}_best.pth')\n",
        "            best_loss = val_loss\n",
        "\n",
        "        # 檢查 Early Stopping 條件\n",
        "        early_stopping(val_loss)\n",
        "        if early_stopping.early_stop:\n",
        "            print(\"Early stopping triggered\")\n",
        "            break\n",
        "\n",
        "    # 最終模型存檔\n",
        "    final_model_path = f'{save_path}/{model_name}_final.pth'\n",
        "    torch.save(model.state_dict(), final_model_path)\n",
        "    print(f'{model_name} 已存檔至 {final_model_path}')\n",
        "\n",
        "\n",
        "# 修改 `train_and_save_model` 的呼叫來傳遞新的 `train_loader` 和 `val_loader`\n",
        "resnet50 = models.resnet50(pretrained=True)\n",
        "resnet18 = models.resnet18(pretrained=True)\n",
        "resnet34 = models.resnet34(pretrained=True)\n",
        "train_and_validate_model(resnet34, 'resnet34', save_path)\n",
        "train_and_validate_model(resnet50, 'resnet50', save_path)\n",
        "train_and_validate_model(resnet18, 'resnet18', save_path)"
      ],
      "metadata": {
        "colab": {
          "base_uri": "https://localhost:8080/"
        },
        "id": "BH6V0l4p0vVL",
        "outputId": "3d937efd-aba6-4024-a849-9bf4b226d858"
      },
      "execution_count": null,
      "outputs": [
        {
          "output_type": "stream",
          "name": "stderr",
          "text": [
            "<ipython-input-10-fcb5603b4281>:28: DeprecationWarning: Conversion of an array with ndim > 0 to a scalar is deprecated, and will error in future. Ensure you extract a single element from your array before performing this operation. (Deprecated NumPy 1.25.)\n",
            "  if float(np.random.rand(1)) > 0.5:\n"
          ]
        },
        {
          "output_type": "stream",
          "name": "stdout",
          "text": [
            "Epoch 1/30, Train Loss: 0.3722, Val Loss: 0.1090\n",
            "Epoch 2/30, Train Loss: 0.0727, Val Loss: 0.0592\n",
            "Epoch 3/30, Train Loss: 0.0563, Val Loss: 0.0520\n",
            "Epoch 4/30, Train Loss: 0.0461, Val Loss: 0.0519\n",
            "Epoch 5/30, Train Loss: 0.0414, Val Loss: 0.0415\n",
            "Epoch 6/30, Train Loss: 0.0378, Val Loss: 0.0366\n"
          ]
        }
      ]
    },
    {
      "cell_type": "markdown",
      "source": [
        "# TensorRT\n"
      ],
      "metadata": {
        "id": "OQ4mtEET-l0O"
      }
    },
    {
      "cell_type": "markdown",
      "source": [
        "## 安裝\n"
      ],
      "metadata": {
        "id": "TjKLHwGyiP7-"
      }
    },
    {
      "cell_type": "code",
      "source": [
        "!rm -rf build/\n",
        "!rm -rf dist/\n",
        "!rm -rf torch2trt.egg-info/\n",
        "!rm -rf torch2trt/"
      ],
      "metadata": {
        "id": "GLyYFKQdtWpd"
      },
      "execution_count": null,
      "outputs": []
    },
    {
      "cell_type": "code",
      "source": [
        "!dpkg -l | grep nvinfer\n",
        "!sudo apt-get update\n",
        "!sudo apt-get install -y tensorrt python3-libnvinfer-dev\n",
        "!sudo apt-get update\n",
        "!sudo apt-get install -y libnvinfer8 libnvinfer-plugin8 libnvparsers8 libnvonnxparsers8 libnvinfer-dev python3-libnvinfer\n",
        "!sudo apt-get install python3-libnvinfer\n",
        "!python3 -m pip install --upgrade tensorrt"
      ],
      "metadata": {
        "id": "n8c1txbOh5fr",
        "colab": {
          "base_uri": "https://localhost:8080/"
        },
        "outputId": "fd7b412e-87c4-4d65-f7f3-797c456cb5bf"
      },
      "execution_count": null,
      "outputs": [
        {
          "output_type": "stream",
          "name": "stdout",
          "text": [
            "\r0% [Working]\r            \rGet:1 https://cloud.r-project.org/bin/linux/ubuntu jammy-cran40/ InRelease [3,626 B]\n",
            "Get:2 https://developer.download.nvidia.com/compute/cuda/repos/ubuntu2204/x86_64  InRelease [1,581 B]\n",
            "Get:3 http://security.ubuntu.com/ubuntu jammy-security InRelease [129 kB]\n",
            "Get:4 https://developer.download.nvidia.com/compute/cuda/repos/ubuntu2204/x86_64  Packages [1,105 kB]\n",
            "Hit:5 http://archive.ubuntu.com/ubuntu jammy InRelease\n",
            "Get:6 http://archive.ubuntu.com/ubuntu jammy-updates InRelease [128 kB]\n",
            "Get:7 https://r2u.stat.illinois.edu/ubuntu jammy InRelease [6,555 B]\n",
            "Hit:8 https://ppa.launchpadcontent.net/deadsnakes/ppa/ubuntu jammy InRelease\n",
            "Hit:9 https://ppa.launchpadcontent.net/graphics-drivers/ppa/ubuntu jammy InRelease\n",
            "Hit:10 https://ppa.launchpadcontent.net/ubuntugis/ppa/ubuntu jammy InRelease\n",
            "Get:11 https://r2u.stat.illinois.edu/ubuntu jammy/main all Packages [8,442 kB]\n",
            "Get:12 http://archive.ubuntu.com/ubuntu jammy-backports InRelease [127 kB]\n",
            "Get:13 http://archive.ubuntu.com/ubuntu jammy-updates/main amd64 Packages [2,665 kB]\n",
            "Get:14 https://r2u.stat.illinois.edu/ubuntu jammy/main amd64 Packages [2,606 kB]\n",
            "Fetched 15.2 MB in 4s (3,737 kB/s)\n",
            "Reading package lists... Done\n",
            "W: Skipping acquire of configured file 'main/source/Sources' as repository 'https://r2u.stat.illinois.edu/ubuntu jammy InRelease' does not seem to provide it (sources.list entry misspelt?)\n",
            "Reading package lists... Done\n",
            "Building dependency tree... Done\n",
            "Reading state information... Done\n",
            "The following additional packages will be installed:\n",
            "  libnvinfer-bin libnvinfer-dev libnvinfer-dispatch-dev libnvinfer-dispatch10\n",
            "  libnvinfer-headers-dev libnvinfer-headers-plugin-dev libnvinfer-lean-dev\n",
            "  libnvinfer-lean10 libnvinfer-plugin-dev libnvinfer-plugin10\n",
            "  libnvinfer-samples libnvinfer-vc-plugin-dev libnvinfer-vc-plugin10\n",
            "  libnvinfer10 libnvonnxparsers-dev libnvonnxparsers10 python3-libnvinfer\n",
            "  python3-libnvinfer-dispatch python3-libnvinfer-lean\n",
            "The following NEW packages will be installed:\n",
            "  libnvinfer-bin libnvinfer-dev libnvinfer-dispatch-dev libnvinfer-dispatch10\n",
            "  libnvinfer-headers-dev libnvinfer-headers-plugin-dev libnvinfer-lean-dev\n",
            "  libnvinfer-lean10 libnvinfer-plugin-dev libnvinfer-plugin10\n",
            "  libnvinfer-samples libnvinfer-vc-plugin-dev libnvinfer-vc-plugin10\n",
            "  libnvinfer10 libnvonnxparsers-dev libnvonnxparsers10 python3-libnvinfer\n",
            "  python3-libnvinfer-dev python3-libnvinfer-dispatch python3-libnvinfer-lean\n",
            "  tensorrt\n",
            "0 upgraded, 21 newly installed, 0 to remove and 53 not upgraded.\n",
            "Need to get 2,728 MB of archives.\n",
            "After this operation, 7,032 MB of additional disk space will be used.\n",
            "Get:1 https://developer.download.nvidia.com/compute/cuda/repos/ubuntu2204/x86_64  libnvinfer10 10.6.0.26-1+cuda12.6 [1,239 MB]\n",
            "Get:2 https://developer.download.nvidia.com/compute/cuda/repos/ubuntu2204/x86_64  libnvinfer-lean10 10.6.0.26-1+cuda12.6 [8,229 kB]\n",
            "Get:3 https://developer.download.nvidia.com/compute/cuda/repos/ubuntu2204/x86_64  libnvinfer-plugin10 10.6.0.26-1+cuda12.6 [9,490 kB]\n",
            "Get:4 https://developer.download.nvidia.com/compute/cuda/repos/ubuntu2204/x86_64  libnvinfer-vc-plugin10 10.6.0.26-1+cuda12.6 [223 kB]\n",
            "Get:5 https://developer.download.nvidia.com/compute/cuda/repos/ubuntu2204/x86_64  libnvinfer-dispatch10 10.6.0.26-1+cuda12.6 [211 kB]\n",
            "Get:6 https://developer.download.nvidia.com/compute/cuda/repos/ubuntu2204/x86_64  libnvonnxparsers10 10.6.0.26-1+cuda12.6 [1,327 kB]\n",
            "Get:7 https://developer.download.nvidia.com/compute/cuda/repos/ubuntu2204/x86_64  libnvinfer-bin 10.6.0.26-1+cuda12.6 [454 kB]\n",
            "Get:8 https://developer.download.nvidia.com/compute/cuda/repos/ubuntu2204/x86_64  libnvinfer-headers-dev 10.6.0.26-1+cuda12.6 [105 kB]\n",
            "Get:9 https://developer.download.nvidia.com/compute/cuda/repos/ubuntu2204/x86_64  libnvinfer-dev 10.6.0.26-1+cuda12.6 [1,245 MB]\n",
            "Get:10 https://developer.download.nvidia.com/compute/cuda/repos/ubuntu2204/x86_64  libnvinfer-dispatch-dev 10.6.0.26-1+cuda12.6 [120 kB]\n",
            "Get:11 https://developer.download.nvidia.com/compute/cuda/repos/ubuntu2204/x86_64  libnvinfer-headers-plugin-dev 10.6.0.26-1+cuda12.6 [6,052 B]\n",
            "Get:12 https://developer.download.nvidia.com/compute/cuda/repos/ubuntu2204/x86_64  libnvinfer-lean-dev 10.6.0.26-1+cuda12.6 [21.6 MB]\n",
            "Get:13 https://developer.download.nvidia.com/compute/cuda/repos/ubuntu2204/x86_64  libnvinfer-plugin-dev 10.6.0.26-1+cuda12.6 [10.8 MB]\n",
            "Get:14 https://developer.download.nvidia.com/compute/cuda/repos/ubuntu2204/x86_64  libnvinfer-vc-plugin-dev 10.6.0.26-1+cuda12.6 [80.5 kB]\n",
            "Get:15 https://developer.download.nvidia.com/compute/cuda/repos/ubuntu2204/x86_64  libnvonnxparsers-dev 10.6.0.26-1+cuda12.6 [2,149 kB]\n",
            "Get:16 https://developer.download.nvidia.com/compute/cuda/repos/ubuntu2204/x86_64  libnvinfer-samples 10.6.0.26-1+cuda12.6 [187 MB]\n",
            "Get:17 https://developer.download.nvidia.com/compute/cuda/repos/ubuntu2204/x86_64  python3-libnvinfer 10.6.0.26-1+cuda12.6 [804 kB]\n",
            "Get:18 https://developer.download.nvidia.com/compute/cuda/repos/ubuntu2204/x86_64  python3-libnvinfer-lean 10.6.0.26-1+cuda12.6 [501 kB]\n",
            "Get:19 https://developer.download.nvidia.com/compute/cuda/repos/ubuntu2204/x86_64  python3-libnvinfer-dispatch 10.6.0.26-1+cuda12.6 [500 kB]\n",
            "Get:20 https://developer.download.nvidia.com/compute/cuda/repos/ubuntu2204/x86_64  python3-libnvinfer-dev 10.6.0.26-1+cuda12.6 [2,962 B]\n",
            "Get:21 https://developer.download.nvidia.com/compute/cuda/repos/ubuntu2204/x86_64  tensorrt 10.6.0.26-1+cuda12.6 [2,946 B]\n",
            "Fetched 2,728 MB in 38s (72.2 MB/s)\n",
            "debconf: unable to initialize frontend: Dialog\n",
            "debconf: (No usable dialog-like program is installed, so the dialog based frontend cannot be used. at /usr/share/perl5/Debconf/FrontEnd/Dialog.pm line 78, <> line 21.)\n",
            "debconf: falling back to frontend: Readline\n",
            "debconf: unable to initialize frontend: Readline\n",
            "debconf: (This frontend requires a controlling tty.)\n",
            "debconf: falling back to frontend: Teletype\n",
            "dpkg-preconfigure: unable to re-open stdin: \n",
            "Selecting previously unselected package libnvinfer10.\n",
            "(Reading database ... 123623 files and directories currently installed.)\n",
            "Preparing to unpack .../00-libnvinfer10_10.6.0.26-1+cuda12.6_amd64.deb ...\n",
            "Unpacking libnvinfer10 (10.6.0.26-1+cuda12.6) ...\n",
            "Selecting previously unselected package libnvinfer-lean10.\n",
            "Preparing to unpack .../01-libnvinfer-lean10_10.6.0.26-1+cuda12.6_amd64.deb ...\n",
            "Unpacking libnvinfer-lean10 (10.6.0.26-1+cuda12.6) ...\n",
            "Selecting previously unselected package libnvinfer-plugin10.\n",
            "Preparing to unpack .../02-libnvinfer-plugin10_10.6.0.26-1+cuda12.6_amd64.deb ...\n",
            "Unpacking libnvinfer-plugin10 (10.6.0.26-1+cuda12.6) ...\n",
            "Selecting previously unselected package libnvinfer-vc-plugin10.\n",
            "Preparing to unpack .../03-libnvinfer-vc-plugin10_10.6.0.26-1+cuda12.6_amd64.deb ...\n",
            "Unpacking libnvinfer-vc-plugin10 (10.6.0.26-1+cuda12.6) ...\n",
            "Selecting previously unselected package libnvinfer-dispatch10.\n",
            "Preparing to unpack .../04-libnvinfer-dispatch10_10.6.0.26-1+cuda12.6_amd64.deb ...\n",
            "Unpacking libnvinfer-dispatch10 (10.6.0.26-1+cuda12.6) ...\n",
            "Selecting previously unselected package libnvonnxparsers10.\n",
            "Preparing to unpack .../05-libnvonnxparsers10_10.6.0.26-1+cuda12.6_amd64.deb ...\n",
            "Unpacking libnvonnxparsers10 (10.6.0.26-1+cuda12.6) ...\n",
            "Selecting previously unselected package libnvinfer-bin.\n",
            "Preparing to unpack .../06-libnvinfer-bin_10.6.0.26-1+cuda12.6_amd64.deb ...\n",
            "Unpacking libnvinfer-bin (10.6.0.26-1+cuda12.6) ...\n",
            "Selecting previously unselected package libnvinfer-headers-dev.\n",
            "Preparing to unpack .../07-libnvinfer-headers-dev_10.6.0.26-1+cuda12.6_amd64.deb ...\n",
            "Unpacking libnvinfer-headers-dev (10.6.0.26-1+cuda12.6) ...\n",
            "Selecting previously unselected package libnvinfer-dev.\n",
            "Preparing to unpack .../08-libnvinfer-dev_10.6.0.26-1+cuda12.6_amd64.deb ...\n",
            "Unpacking libnvinfer-dev (10.6.0.26-1+cuda12.6) ...\n",
            "Selecting previously unselected package libnvinfer-dispatch-dev.\n",
            "Preparing to unpack .../09-libnvinfer-dispatch-dev_10.6.0.26-1+cuda12.6_amd64.deb ...\n",
            "Unpacking libnvinfer-dispatch-dev (10.6.0.26-1+cuda12.6) ...\n",
            "Selecting previously unselected package libnvinfer-headers-plugin-dev.\n",
            "Preparing to unpack .../10-libnvinfer-headers-plugin-dev_10.6.0.26-1+cuda12.6_amd64.deb ...\n",
            "Unpacking libnvinfer-headers-plugin-dev (10.6.0.26-1+cuda12.6) ...\n",
            "Selecting previously unselected package libnvinfer-lean-dev.\n",
            "Preparing to unpack .../11-libnvinfer-lean-dev_10.6.0.26-1+cuda12.6_amd64.deb ...\n",
            "Unpacking libnvinfer-lean-dev (10.6.0.26-1+cuda12.6) ...\n",
            "Selecting previously unselected package libnvinfer-plugin-dev.\n",
            "Preparing to unpack .../12-libnvinfer-plugin-dev_10.6.0.26-1+cuda12.6_amd64.deb ...\n",
            "Unpacking libnvinfer-plugin-dev (10.6.0.26-1+cuda12.6) ...\n",
            "Selecting previously unselected package libnvinfer-vc-plugin-dev.\n",
            "Preparing to unpack .../13-libnvinfer-vc-plugin-dev_10.6.0.26-1+cuda12.6_amd64.deb ...\n",
            "Unpacking libnvinfer-vc-plugin-dev (10.6.0.26-1+cuda12.6) ...\n",
            "Selecting previously unselected package libnvonnxparsers-dev.\n",
            "Preparing to unpack .../14-libnvonnxparsers-dev_10.6.0.26-1+cuda12.6_amd64.deb ...\n",
            "Unpacking libnvonnxparsers-dev (10.6.0.26-1+cuda12.6) ...\n",
            "Selecting previously unselected package libnvinfer-samples.\n",
            "Preparing to unpack .../15-libnvinfer-samples_10.6.0.26-1+cuda12.6_all.deb ...\n",
            "Unpacking libnvinfer-samples (10.6.0.26-1+cuda12.6) ...\n",
            "Selecting previously unselected package python3-libnvinfer.\n",
            "Preparing to unpack .../16-python3-libnvinfer_10.6.0.26-1+cuda12.6_amd64.deb ...\n",
            "Unpacking python3-libnvinfer (10.6.0.26-1+cuda12.6) ...\n",
            "Selecting previously unselected package python3-libnvinfer-lean.\n",
            "Preparing to unpack .../17-python3-libnvinfer-lean_10.6.0.26-1+cuda12.6_amd64.deb ...\n",
            "Unpacking python3-libnvinfer-lean (10.6.0.26-1+cuda12.6) ...\n",
            "Selecting previously unselected package python3-libnvinfer-dispatch.\n",
            "Preparing to unpack .../18-python3-libnvinfer-dispatch_10.6.0.26-1+cuda12.6_amd64.deb ...\n",
            "Unpacking python3-libnvinfer-dispatch (10.6.0.26-1+cuda12.6) ...\n",
            "Selecting previously unselected package python3-libnvinfer-dev.\n",
            "Preparing to unpack .../19-python3-libnvinfer-dev_10.6.0.26-1+cuda12.6_amd64.deb ...\n",
            "Unpacking python3-libnvinfer-dev (10.6.0.26-1+cuda12.6) ...\n",
            "Selecting previously unselected package tensorrt.\n",
            "Preparing to unpack .../20-tensorrt_10.6.0.26-1+cuda12.6_amd64.deb ...\n",
            "Unpacking tensorrt (10.6.0.26-1+cuda12.6) ...\n",
            "Setting up libnvinfer-headers-dev (10.6.0.26-1+cuda12.6) ...\n",
            "Setting up libnvinfer10 (10.6.0.26-1+cuda12.6) ...\n",
            "Setting up libnvinfer-plugin10 (10.6.0.26-1+cuda12.6) ...\n",
            "Setting up libnvinfer-vc-plugin10 (10.6.0.26-1+cuda12.6) ...\n",
            "Setting up libnvonnxparsers10 (10.6.0.26-1+cuda12.6) ...\n",
            "Setting up libnvinfer-dispatch10 (10.6.0.26-1+cuda12.6) ...\n",
            "Setting up libnvinfer-dispatch-dev (10.6.0.26-1+cuda12.6) ...\n",
            "Setting up libnvinfer-dev (10.6.0.26-1+cuda12.6) ...\n",
            "Setting up libnvinfer-lean10 (10.6.0.26-1+cuda12.6) ...\n",
            "Setting up libnvonnxparsers-dev (10.6.0.26-1+cuda12.6) ...\n",
            "Setting up python3-libnvinfer-dispatch (10.6.0.26-1+cuda12.6) ...\n",
            "Setting up libnvinfer-headers-plugin-dev (10.6.0.26-1+cuda12.6) ...\n",
            "Setting up libnvinfer-lean-dev (10.6.0.26-1+cuda12.6) ...\n",
            "Setting up python3-libnvinfer (10.6.0.26-1+cuda12.6) ...\n",
            "Setting up python3-libnvinfer-lean (10.6.0.26-1+cuda12.6) ...\n",
            "Setting up libnvinfer-plugin-dev (10.6.0.26-1+cuda12.6) ...\n",
            "Setting up libnvinfer-vc-plugin-dev (10.6.0.26-1+cuda12.6) ...\n",
            "Setting up libnvinfer-bin (10.6.0.26-1+cuda12.6) ...\n",
            "Setting up libnvinfer-samples (10.6.0.26-1+cuda12.6) ...\n",
            "Setting up python3-libnvinfer-dev (10.6.0.26-1+cuda12.6) ...\n",
            "Setting up tensorrt (10.6.0.26-1+cuda12.6) ...\n",
            "Processing triggers for libc-bin (2.35-0ubuntu3.4) ...\n",
            "/sbin/ldconfig.real: /usr/local/lib/libtbbbind_2_5.so.3 is not a symbolic link\n",
            "\n",
            "/sbin/ldconfig.real: /usr/local/lib/libtbbbind_2_0.so.3 is not a symbolic link\n",
            "\n",
            "/sbin/ldconfig.real: /usr/local/lib/libtbbmalloc_proxy.so.2 is not a symbolic link\n",
            "\n",
            "/sbin/ldconfig.real: /usr/local/lib/libtcm.so.1 is not a symbolic link\n",
            "\n",
            "/sbin/ldconfig.real: /usr/local/lib/libhwloc.so.15 is not a symbolic link\n",
            "\n",
            "/sbin/ldconfig.real: /usr/local/lib/libtbbmalloc.so.2 is not a symbolic link\n",
            "\n",
            "/sbin/ldconfig.real: /usr/local/lib/libtbb.so.12 is not a symbolic link\n",
            "\n",
            "/sbin/ldconfig.real: /usr/local/lib/libur_adapter_opencl.so.0 is not a symbolic link\n",
            "\n",
            "/sbin/ldconfig.real: /usr/local/lib/libtbbbind.so.3 is not a symbolic link\n",
            "\n",
            "/sbin/ldconfig.real: /usr/local/lib/libur_adapter_level_zero.so.0 is not a symbolic link\n",
            "\n",
            "/sbin/ldconfig.real: /usr/local/lib/libtcm_debug.so.1 is not a symbolic link\n",
            "\n",
            "/sbin/ldconfig.real: /usr/local/lib/libur_loader.so.0 is not a symbolic link\n",
            "\n",
            "/sbin/ldconfig.real: /usr/local/lib/libumf.so.0 is not a symbolic link\n",
            "\n",
            "Hit:1 https://developer.download.nvidia.com/compute/cuda/repos/ubuntu2204/x86_64  InRelease\n",
            "Hit:2 https://cloud.r-project.org/bin/linux/ubuntu jammy-cran40/ InRelease\n",
            "Hit:3 http://security.ubuntu.com/ubuntu jammy-security InRelease\n",
            "Hit:4 http://archive.ubuntu.com/ubuntu jammy InRelease\n",
            "Hit:5 http://archive.ubuntu.com/ubuntu jammy-updates InRelease\n",
            "Hit:6 https://r2u.stat.illinois.edu/ubuntu jammy InRelease\n",
            "Hit:7 https://ppa.launchpadcontent.net/deadsnakes/ppa/ubuntu jammy InRelease\n",
            "Hit:8 http://archive.ubuntu.com/ubuntu jammy-backports InRelease\n",
            "Hit:9 https://ppa.launchpadcontent.net/graphics-drivers/ppa/ubuntu jammy InRelease\n",
            "Hit:10 https://ppa.launchpadcontent.net/ubuntugis/ppa/ubuntu jammy InRelease\n",
            "Reading package lists... Done\n",
            "W: Skipping acquire of configured file 'main/source/Sources' as repository 'https://r2u.stat.illinois.edu/ubuntu jammy InRelease' does not seem to provide it (sources.list entry misspelt?)\n",
            "Reading package lists... Done\n",
            "Building dependency tree... Done\n",
            "Reading state information... Done\n",
            "libnvinfer-dev is already the newest version (10.6.0.26-1+cuda12.6).\n",
            "libnvinfer-dev set to manually installed.\n",
            "python3-libnvinfer is already the newest version (10.6.0.26-1+cuda12.6).\n",
            "python3-libnvinfer set to manually installed.\n",
            "The following NEW packages will be installed:\n",
            "  libnvinfer-plugin8 libnvinfer8 libnvonnxparsers8 libnvparsers8\n",
            "0 upgraded, 4 newly installed, 0 to remove and 53 not upgraded.\n",
            "Need to get 505 MB of archives.\n",
            "After this operation, 1,284 MB of additional disk space will be used.\n",
            "Get:1 https://developer.download.nvidia.com/compute/cuda/repos/ubuntu2204/x86_64  libnvinfer8 8.6.1.6-1+cuda12.0 [492 MB]\n",
            "Get:2 https://developer.download.nvidia.com/compute/cuda/repos/ubuntu2204/x86_64  libnvinfer-plugin8 8.6.1.6-1+cuda12.0 [11.7 MB]\n",
            "Get:3 https://developer.download.nvidia.com/compute/cuda/repos/ubuntu2204/x86_64  libnvonnxparsers8 8.6.1.6-1+cuda12.0 [711 kB]\n",
            "Get:4 https://developer.download.nvidia.com/compute/cuda/repos/ubuntu2204/x86_64  libnvparsers8 8.6.1.6-1+cuda12.0 [804 kB]\n",
            "Fetched 505 MB in 7s (77.0 MB/s)\n",
            "debconf: unable to initialize frontend: Dialog\n",
            "debconf: (No usable dialog-like program is installed, so the dialog based frontend cannot be used. at /usr/share/perl5/Debconf/FrontEnd/Dialog.pm line 78, <> line 4.)\n",
            "debconf: falling back to frontend: Readline\n",
            "debconf: unable to initialize frontend: Readline\n",
            "debconf: (This frontend requires a controlling tty.)\n",
            "debconf: falling back to frontend: Teletype\n",
            "dpkg-preconfigure: unable to re-open stdin: \n",
            "Selecting previously unselected package libnvinfer8.\n",
            "(Reading database ... 124053 files and directories currently installed.)\n",
            "Preparing to unpack .../libnvinfer8_8.6.1.6-1+cuda12.0_amd64.deb ...\n",
            "Unpacking libnvinfer8 (8.6.1.6-1+cuda12.0) ...\n",
            "Selecting previously unselected package libnvinfer-plugin8.\n",
            "Preparing to unpack .../libnvinfer-plugin8_8.6.1.6-1+cuda12.0_amd64.deb ...\n",
            "Unpacking libnvinfer-plugin8 (8.6.1.6-1+cuda12.0) ...\n",
            "Selecting previously unselected package libnvonnxparsers8.\n",
            "Preparing to unpack .../libnvonnxparsers8_8.6.1.6-1+cuda12.0_amd64.deb ...\n",
            "Unpacking libnvonnxparsers8 (8.6.1.6-1+cuda12.0) ...\n",
            "Selecting previously unselected package libnvparsers8.\n",
            "Preparing to unpack .../libnvparsers8_8.6.1.6-1+cuda12.0_amd64.deb ...\n",
            "Unpacking libnvparsers8 (8.6.1.6-1+cuda12.0) ...\n",
            "Setting up libnvinfer8 (8.6.1.6-1+cuda12.0) ...\n",
            "Setting up libnvparsers8 (8.6.1.6-1+cuda12.0) ...\n",
            "Setting up libnvinfer-plugin8 (8.6.1.6-1+cuda12.0) ...\n",
            "Setting up libnvonnxparsers8 (8.6.1.6-1+cuda12.0) ...\n",
            "Processing triggers for libc-bin (2.35-0ubuntu3.4) ...\n",
            "/sbin/ldconfig.real: /usr/local/lib/libtbbbind_2_5.so.3 is not a symbolic link\n",
            "\n",
            "/sbin/ldconfig.real: /usr/local/lib/libtbbbind_2_0.so.3 is not a symbolic link\n",
            "\n",
            "/sbin/ldconfig.real: /usr/local/lib/libtbbmalloc_proxy.so.2 is not a symbolic link\n",
            "\n",
            "/sbin/ldconfig.real: /usr/local/lib/libtcm.so.1 is not a symbolic link\n",
            "\n",
            "/sbin/ldconfig.real: /usr/local/lib/libhwloc.so.15 is not a symbolic link\n",
            "\n",
            "/sbin/ldconfig.real: /usr/local/lib/libtbbmalloc.so.2 is not a symbolic link\n",
            "\n",
            "/sbin/ldconfig.real: /usr/local/lib/libtbb.so.12 is not a symbolic link\n",
            "\n",
            "/sbin/ldconfig.real: /usr/local/lib/libur_adapter_opencl.so.0 is not a symbolic link\n",
            "\n",
            "/sbin/ldconfig.real: /usr/local/lib/libtbbbind.so.3 is not a symbolic link\n",
            "\n",
            "/sbin/ldconfig.real: /usr/local/lib/libur_adapter_level_zero.so.0 is not a symbolic link\n",
            "\n",
            "/sbin/ldconfig.real: /usr/local/lib/libtcm_debug.so.1 is not a symbolic link\n",
            "\n",
            "/sbin/ldconfig.real: /usr/local/lib/libur_loader.so.0 is not a symbolic link\n",
            "\n",
            "/sbin/ldconfig.real: /usr/local/lib/libumf.so.0 is not a symbolic link\n",
            "\n",
            "Reading package lists... Done\n",
            "Building dependency tree... Done\n",
            "Reading state information... Done\n",
            "python3-libnvinfer is already the newest version (10.6.0.26-1+cuda12.6).\n",
            "0 upgraded, 0 newly installed, 0 to remove and 53 not upgraded.\n",
            "Requirement already satisfied: tensorrt in /usr/lib/python3.10/dist-packages (10.6.0)\n"
          ]
        }
      ]
    },
    {
      "cell_type": "code",
      "source": [
        "import tensorrt\n",
        "print(tensorrt.__version__)\n",
        "assert tensorrt.Builder(tensorrt.Logger())"
      ],
      "metadata": {
        "colab": {
          "base_uri": "https://localhost:8080/",
          "height": 350
        },
        "id": "icgwrR9ZjtxU",
        "outputId": "4d24490e-96a9-4542-d01f-0d38614f0fdb"
      },
      "execution_count": null,
      "outputs": [
        {
          "output_type": "error",
          "ename": "ModuleNotFoundError",
          "evalue": "No module named 'tensorrt'",
          "traceback": [
            "\u001b[0;31m---------------------------------------------------------------------------\u001b[0m",
            "\u001b[0;31mModuleNotFoundError\u001b[0m                       Traceback (most recent call last)",
            "\u001b[0;32m<ipython-input-15-234ac78902c0>\u001b[0m in \u001b[0;36m<cell line: 1>\u001b[0;34m()\u001b[0m\n\u001b[0;32m----> 1\u001b[0;31m \u001b[0;32mimport\u001b[0m \u001b[0mtensorrt\u001b[0m\u001b[0;34m\u001b[0m\u001b[0;34m\u001b[0m\u001b[0m\n\u001b[0m\u001b[1;32m      2\u001b[0m \u001b[0mprint\u001b[0m\u001b[0;34m(\u001b[0m\u001b[0mtensorrt\u001b[0m\u001b[0;34m.\u001b[0m\u001b[0m__version__\u001b[0m\u001b[0;34m)\u001b[0m\u001b[0;34m\u001b[0m\u001b[0;34m\u001b[0m\u001b[0m\n\u001b[1;32m      3\u001b[0m \u001b[0;32massert\u001b[0m \u001b[0mtensorrt\u001b[0m\u001b[0;34m.\u001b[0m\u001b[0mBuilder\u001b[0m\u001b[0;34m(\u001b[0m\u001b[0mtensorrt\u001b[0m\u001b[0;34m.\u001b[0m\u001b[0mLogger\u001b[0m\u001b[0;34m(\u001b[0m\u001b[0;34m)\u001b[0m\u001b[0;34m)\u001b[0m\u001b[0;34m\u001b[0m\u001b[0;34m\u001b[0m\u001b[0m\n",
            "\u001b[0;31mModuleNotFoundError\u001b[0m: No module named 'tensorrt'",
            "",
            "\u001b[0;31m---------------------------------------------------------------------------\u001b[0;32m\nNOTE: If your import is failing due to a missing package, you can\nmanually install dependencies using either !pip or !apt.\n\nTo view examples of installing some common dependencies, click the\n\"Open Examples\" button below.\n\u001b[0;31m---------------------------------------------------------------------------\u001b[0m\n"
          ],
          "errorDetails": {
            "actions": [
              {
                "action": "open_url",
                "actionText": "Open Examples",
                "url": "/notebooks/snippets/importing_libraries.ipynb"
              }
            ]
          }
        }
      ]
    },
    {
      "cell_type": "code",
      "source": [
        "!pip3 install git+https://github.com/NVIDIA-AI-IOT/torch2trt.git --target=/usr/lib/python3/dist-packages/\n"
      ],
      "metadata": {
        "id": "HuPfUClNvGvf"
      },
      "execution_count": null,
      "outputs": []
    },
    {
      "cell_type": "code",
      "source": [
        "try:\n",
        "    from torch2trt import torch2trt\n",
        "    print(\"torch2trt has been successfully imported.\")\n",
        "except ModuleNotFoundError as e:\n",
        "    print(\"Module not found:\", e)\n"
      ],
      "metadata": {
        "id": "hWY4gCG6u03N"
      },
      "execution_count": null,
      "outputs": []
    },
    {
      "cell_type": "code",
      "source": [
        "import torchvision\n",
        "import torch\n",
        "\n",
        "model = torchvision.models.resnet18(pretrained=False)\n",
        "model.fc = torch.nn.Linear(512, 2)\n",
        "model = model.cuda().eval().half()\n",
        "model.load_state_dict(torch.load('output/resnet18_lr1e-05_epochs40_batch16.pth'))\n",
        "device = torch.device('cuda')\n",
        "from torch2trt import torch2trt\n",
        "\n",
        "data = torch.zeros((1, 3, 224, 224)).cuda().half()\n",
        "\n",
        "model_trt = torch2trt(model, [data], fp16_mode=True)\n",
        "torch.save(model_trt.state_dict(), 'output/resnet18_lr1e-05_epochs40_batch16_trt.pth')"
      ],
      "metadata": {
        "id": "usF1VG4o2J6-",
        "colab": {
          "base_uri": "https://localhost:8080/",
          "height": 439
        },
        "outputId": "da09b939-4eea-4df2-f66c-abc7719e10a0"
      },
      "execution_count": null,
      "outputs": [
        {
          "output_type": "stream",
          "name": "stderr",
          "text": [
            "<ipython-input-12-9a1d6db45d19>:7: FutureWarning: You are using `torch.load` with `weights_only=False` (the current default value), which uses the default pickle module implicitly. It is possible to construct malicious pickle data which will execute arbitrary code during unpickling (See https://github.com/pytorch/pytorch/blob/main/SECURITY.md#untrusted-models for more details). In a future release, the default value for `weights_only` will be flipped to `True`. This limits the functions that could be executed during unpickling. Arbitrary objects will no longer be allowed to be loaded via this mode unless they are explicitly allowlisted by the user via `torch.serialization.add_safe_globals`. We recommend you start setting `weights_only=True` for any use case where you don't have full control of the loaded file. Please open an issue on GitHub for any issues related to this experimental feature.\n",
            "  model.load_state_dict(torch.load('output/resnet18_lr1e-05_epochs40_batch16.pth'))\n"
          ]
        },
        {
          "output_type": "error",
          "ename": "ModuleNotFoundError",
          "evalue": "No module named 'torch2trt'",
          "traceback": [
            "\u001b[0;31m---------------------------------------------------------------------------\u001b[0m",
            "\u001b[0;31mModuleNotFoundError\u001b[0m                       Traceback (most recent call last)",
            "\u001b[0;32m<ipython-input-12-9a1d6db45d19>\u001b[0m in \u001b[0;36m<cell line: 9>\u001b[0;34m()\u001b[0m\n\u001b[1;32m      7\u001b[0m \u001b[0mmodel\u001b[0m\u001b[0;34m.\u001b[0m\u001b[0mload_state_dict\u001b[0m\u001b[0;34m(\u001b[0m\u001b[0mtorch\u001b[0m\u001b[0;34m.\u001b[0m\u001b[0mload\u001b[0m\u001b[0;34m(\u001b[0m\u001b[0;34m'output/resnet18_lr1e-05_epochs40_batch16.pth'\u001b[0m\u001b[0;34m)\u001b[0m\u001b[0;34m)\u001b[0m\u001b[0;34m\u001b[0m\u001b[0;34m\u001b[0m\u001b[0m\n\u001b[1;32m      8\u001b[0m \u001b[0mdevice\u001b[0m \u001b[0;34m=\u001b[0m \u001b[0mtorch\u001b[0m\u001b[0;34m.\u001b[0m\u001b[0mdevice\u001b[0m\u001b[0;34m(\u001b[0m\u001b[0;34m'cuda'\u001b[0m\u001b[0;34m)\u001b[0m\u001b[0;34m\u001b[0m\u001b[0;34m\u001b[0m\u001b[0m\n\u001b[0;32m----> 9\u001b[0;31m \u001b[0;32mfrom\u001b[0m \u001b[0mtorch2trt\u001b[0m \u001b[0;32mimport\u001b[0m \u001b[0mtorch2trt\u001b[0m\u001b[0;34m\u001b[0m\u001b[0;34m\u001b[0m\u001b[0m\n\u001b[0m\u001b[1;32m     10\u001b[0m \u001b[0;34m\u001b[0m\u001b[0m\n\u001b[1;32m     11\u001b[0m \u001b[0mdata\u001b[0m \u001b[0;34m=\u001b[0m \u001b[0mtorch\u001b[0m\u001b[0;34m.\u001b[0m\u001b[0mzeros\u001b[0m\u001b[0;34m(\u001b[0m\u001b[0;34m(\u001b[0m\u001b[0;36m1\u001b[0m\u001b[0;34m,\u001b[0m \u001b[0;36m3\u001b[0m\u001b[0;34m,\u001b[0m \u001b[0;36m224\u001b[0m\u001b[0;34m,\u001b[0m \u001b[0;36m224\u001b[0m\u001b[0;34m)\u001b[0m\u001b[0;34m)\u001b[0m\u001b[0;34m.\u001b[0m\u001b[0mcuda\u001b[0m\u001b[0;34m(\u001b[0m\u001b[0;34m)\u001b[0m\u001b[0;34m.\u001b[0m\u001b[0mhalf\u001b[0m\u001b[0;34m(\u001b[0m\u001b[0;34m)\u001b[0m\u001b[0;34m\u001b[0m\u001b[0;34m\u001b[0m\u001b[0m\n",
            "\u001b[0;31mModuleNotFoundError\u001b[0m: No module named 'torch2trt'",
            "",
            "\u001b[0;31m---------------------------------------------------------------------------\u001b[0;32m\nNOTE: If your import is failing due to a missing package, you can\nmanually install dependencies using either !pip or !apt.\n\nTo view examples of installing some common dependencies, click the\n\"Open Examples\" button below.\n\u001b[0;31m---------------------------------------------------------------------------\u001b[0m\n"
          ],
          "errorDetails": {
            "actions": [
              {
                "action": "open_url",
                "actionText": "Open Examples",
                "url": "/notebooks/snippets/importing_libraries.ipynb"
              }
            ]
          }
        }
      ]
    },
    {
      "cell_type": "code",
      "source": [
        "# Compress the 'output' folder into a zip file in Colab\n",
        "!zip -r output.zip output/\n"
      ],
      "metadata": {
        "id": "Z1AE-5cN898e",
        "colab": {
          "base_uri": "https://localhost:8080/"
        },
        "outputId": "451584f2-7c19-4343-c101-b9ec87910b94"
      },
      "execution_count": null,
      "outputs": [
        {
          "output_type": "stream",
          "name": "stdout",
          "text": [
            "  adding: output/ (stored 0%)\n",
            "  adding: output/resnet50_lr1e-05_epochs50_batch16.pth (deflated 7%)\n",
            "  adding: output/resnet50_lr1e-05_epochs50_batch16_trt_fp32.pth (deflated 26%)\n",
            "  adding: output/resnet18_lr1e-05_epochs50_batch16.pth (deflated 7%)\n",
            "  adding: output/resnet34_lr1e-05_epochs50_batch16.pth (deflated 7%)\n",
            "  adding: output/resnet18_lr1e-05_epochs50_batch16_trt_fp8.pth (deflated 27%)\n",
            "  adding: output/resnet50_lr1e-05_epochs50_batch16_trt_fp16.pth (deflated 27%)\n",
            "  adding: output/resnet18_lr1e-05_epochs50_batch16_trt_fp16.pth (deflated 27%)\n",
            "  adding: output/.ipynb_checkpoints/ (stored 0%)\n",
            "  adding: output/resnet34_lr1e-05_epochs50_batch16_trt_fp8.pth (deflated 27%)\n",
            "  adding: output/resnet50_lr1e-05_epochs50_batch16_trt_fp8.pth (deflated 27%)\n",
            "  adding: output/resnet34_lr1e-05_epochs50_batch16_trt_fp16.pth (deflated 27%)\n",
            "  adding: output/resnet34_lr1e-05_epochs50_batch16_trt_fp32.pth (deflated 26%)\n",
            "  adding: output/resnet18_lr1e-05_epochs50_batch16_trt_fp32.pth (deflated 26%)\n"
          ]
        }
      ]
    },
    {
      "cell_type": "markdown",
      "source": [],
      "metadata": {
        "id": "XJl0DWlF2JJV"
      }
    }
  ]
}