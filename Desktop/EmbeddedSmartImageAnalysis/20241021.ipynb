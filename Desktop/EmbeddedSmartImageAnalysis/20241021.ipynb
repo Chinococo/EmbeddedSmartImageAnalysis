{
 "cells": [
  {
   "metadata": {
    "ExecuteTime": {
     "end_time": "2024-10-21T15:43:51.213741Z",
     "start_time": "2024-10-21T15:43:46.755641Z"
    }
   },
   "cell_type": "code",
   "source": "!pip install opencv-python",
   "id": "650740b1a1d08d0d",
   "outputs": [
    {
     "name": "stdout",
     "output_type": "stream",
     "text": [
      "Looking in indexes: https://mirror.sjtu.edu.cn/pypi/web/simple\n",
      "Requirement already satisfied: opencv-python in c:\\users\\chino\\appdata\\local\\programs\\python\\python311\\lib\\site-packages (4.10.0.84)\n",
      "Requirement already satisfied: numpy>=1.21.2 in c:\\users\\chino\\appdata\\local\\programs\\python\\python311\\lib\\site-packages (from opencv-python) (2.1.1)\n"
     ]
    },
    {
     "name": "stderr",
     "output_type": "stream",
     "text": [
      "\n",
      "[notice] A new release of pip is available: 23.0 -> 24.2\n",
      "[notice] To update, run: C:\\Users\\Chino\\AppData\\Local\\Programs\\Python\\Python311\\python.exe -m pip install --upgrade pip\n"
     ]
    }
   ],
   "execution_count": 14
  },
  {
   "metadata": {
    "ExecuteTime": {
     "end_time": "2024-10-21T15:43:51.272768Z",
     "start_time": "2024-10-21T15:43:51.267648Z"
    }
   },
   "cell_type": "code",
   "source": [
    "import cv2\n",
    "import numpy as np"
   ],
   "id": "b5bef2468e40a48e",
   "outputs": [],
   "execution_count": 15
  },
  {
   "metadata": {},
   "cell_type": "markdown",
   "source": "# 載入圖片\n",
   "id": "1580cbf60b0c5b6e"
  },
  {
   "cell_type": "code",
   "id": "initial_id",
   "metadata": {
    "collapsed": true,
    "ExecuteTime": {
     "end_time": "2024-10-21T15:43:51.326469Z",
     "start_time": "2024-10-21T15:43:51.298973Z"
    }
   },
   "source": [
    "image_path = \"img/1.jpg\"\n",
    "image = cv2.imread(image_path)\n",
    "original_image = image.copy()"
   ],
   "outputs": [],
   "execution_count": 16
  },
  {
   "metadata": {},
   "cell_type": "markdown",
   "source": "# Convert the image to grayscale",
   "id": "7b43b684196a6f02"
  },
  {
   "metadata": {
    "ExecuteTime": {
     "end_time": "2024-10-21T15:43:51.373099Z",
     "start_time": "2024-10-21T15:43:51.343542Z"
    }
   },
   "cell_type": "code",
   "source": [
    "gray = cv2.cvtColor(image, cv2.COLOR_BGR2GRAY)\n",
    "cv2.imwrite('gray_1.jpg', gray)"
   ],
   "id": "5bdf7307aa998e64",
   "outputs": [
    {
     "data": {
      "text/plain": [
       "True"
      ]
     },
     "execution_count": 17,
     "metadata": {},
     "output_type": "execute_result"
    }
   ],
   "execution_count": 17
  },
  {
   "metadata": {},
   "cell_type": "markdown",
   "source": "# Apply Gaussian Blur to the grayscale image\n",
   "id": "fdb6a0907e7e0609"
  },
  {
   "metadata": {
    "ExecuteTime": {
     "end_time": "2024-10-21T15:43:51.506197Z",
     "start_time": "2024-10-21T15:43:51.479682Z"
    }
   },
   "cell_type": "code",
   "source": [
    "blurred = cv2.GaussianBlur(gray, (15, 15), 0)\n",
    "cv2.imwrite('filter_1.jpg', blurred)"
   ],
   "id": "ab74ec6be416314",
   "outputs": [
    {
     "data": {
      "text/plain": [
       "True"
      ]
     },
     "execution_count": 18,
     "metadata": {},
     "output_type": "execute_result"
    }
   ],
   "execution_count": 18
  },
  {
   "metadata": {},
   "cell_type": "markdown",
   "source": "# Edge detection using Canny (automatic thresholding)",
   "id": "e521cbaa2695e257"
  },
  {
   "metadata": {
    "ExecuteTime": {
     "end_time": "2024-10-21T15:46:07.073158Z",
     "start_time": "2024-10-21T15:46:07.053739Z"
    }
   },
   "cell_type": "code",
   "source": [
    "edges = cv2.Canny(blurred, 50, 200)\n",
    "cv2.imwrite('edge_1.jpg', edges)"
   ],
   "id": "c33845ff4196e3eb",
   "outputs": [
    {
     "data": {
      "text/plain": [
       "True"
      ]
     },
     "execution_count": 24,
     "metadata": {},
     "output_type": "execute_result"
    }
   ],
   "execution_count": 24
  },
  {
   "metadata": {
    "ExecuteTime": {
     "end_time": "2024-10-21T15:43:51.824757Z",
     "start_time": "2024-10-21T15:43:51.799590Z"
    }
   },
   "cell_type": "code",
   "source": [
    "_, binary = cv2.threshold(gray, 160, 255, cv2.THRESH_BINARY)\n",
    "cv2.imwrite('bin_1.jpg', binary)"
   ],
   "id": "414bdca34a9008d9",
   "outputs": [
    {
     "data": {
      "text/plain": [
       "True"
      ]
     },
     "execution_count": 20,
     "metadata": {},
     "output_type": "execute_result"
    }
   ],
   "execution_count": 20
  },
  {
   "metadata": {
    "ExecuteTime": {
     "end_time": "2024-10-21T15:43:51.997980Z",
     "start_time": "2024-10-21T15:43:51.980513Z"
    }
   },
   "cell_type": "code",
   "source": [
    "kernel = np.ones((5, 5), np.uint8)\n",
    "morphed = cv2.morphologyEx(edges, cv2.MORPH_CLOSE, kernel)\n",
    "cv2.imwrite('morphology_1.jpg', morphed)"
   ],
   "id": "4573d8b8a82b1671",
   "outputs": [
    {
     "data": {
      "text/plain": [
       "True"
      ]
     },
     "execution_count": 21,
     "metadata": {},
     "output_type": "execute_result"
    }
   ],
   "execution_count": 21
  },
  {
   "metadata": {
    "ExecuteTime": {
     "end_time": "2024-10-21T15:43:52.074669Z",
     "start_time": "2024-10-21T15:43:52.061593Z"
    }
   },
   "cell_type": "code",
   "source": "lines = cv2.HoughLinesP(morphed, 1, np.pi/180, 100, minLineLength=100, maxLineGap=50)",
   "id": "f3de489c65befa44",
   "outputs": [],
   "execution_count": 22
  },
  {
   "metadata": {
    "ExecuteTime": {
     "end_time": "2024-10-21T15:43:52.106130Z",
     "start_time": "2024-10-21T15:43:52.099586Z"
    }
   },
   "cell_type": "code",
   "source": [
    "if lines is not None:\n",
    "    print(1)\n",
    "    for line in lines:\n",
    "        x1, y1, x2, y2 = line[0]\n",
    "        \n",
    "        # Calculate the length of the line\n",
    "        length = np.sqrt((x2 - x1) ** 2 + (y2 - y1) ** 2)\n",
    "        \n",
    "        # Only draw the line if the length is greater than 100 pixels\n",
    "        if length > 100:\n",
    "            cv2.line(original_image, (x1, y1), (x2, y2), (0, 255, 0), 5)\n",
    "    \n",
    "    print(2)\n",
    "    \n",
    "    # Save the image with lane lines\n",
    "    cv2.imwrite('line_1.jpg', original_image)\n"
   ],
   "id": "72b094e757a60549",
   "outputs": [],
   "execution_count": 23
  }
 ],
 "metadata": {
  "kernelspec": {
   "display_name": "Python 3",
   "language": "python",
   "name": "python3"
  },
  "language_info": {
   "codemirror_mode": {
    "name": "ipython",
    "version": 2
   },
   "file_extension": ".py",
   "mimetype": "text/x-python",
   "name": "python",
   "nbconvert_exporter": "python",
   "pygments_lexer": "ipython2",
   "version": "2.7.6"
  }
 },
 "nbformat": 4,
 "nbformat_minor": 5
}
