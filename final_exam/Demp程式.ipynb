{
 "cells": [
  {
   "cell_type": "markdown",
   "id": "compressed-tournament",
   "metadata": {},
   "source": [
    "## Resnet18"
   ]
  },
  {
   "cell_type": "code",
   "execution_count": 2,
   "id": "provincial-plasma",
   "metadata": {},
   "outputs": [],
   "source": [
    "import torch\n",
    "from torch2trt import TRTModule\n",
    "import cv2\n",
    "import numpy as np\n",
    "import torchvision.transforms as transforms\n",
    "import torch.nn.functional as F\n",
    "import cv2\n",
    "import PIL.Image\n",
    "import numpy as np\n",
    "device = torch.device('cuda')\n",
    "mean = torch.Tensor([0.485, 0.456, 0.406]).cuda().half()\n",
    "std = torch.Tensor([0.229, 0.224, 0.225]).cuda().half()\n",
    "\n",
    "\n",
    "# 載入 ResNet 模型\n",
    "model_trt = TRTModule()\n",
    "model_trt.load_state_dict(torch.load('best_steering_model_xy_trt2.pth'))\n",
    "\n",
    "def preprocess(image):\n",
    "    image = PIL.Image.fromarray(image)\n",
    "    image = transforms.functional.to_tensor(image).to(device).half()\n",
    "    image.sub_(mean[:, None, None]).div_(std[:, None, None])\n",
    "    return image[None, ...]\n",
    "\n",
    "\n",
    "def resnet(image, height):\n",
    "    # 裁剪影像\n",
    "    cropped_image = image[int(height * 0.4):, :, :]\n",
    "\n",
    "    # 模型推理，確保使用 no_grad\n",
    "    with torch.no_grad():\n",
    "        # 預處理\n",
    "        input_data = preprocess(cropped_image).cuda()\n",
    "        # 推理\n",
    "        xy = model_trt(input_data).detach().float().cpu().numpy().flatten()\n",
    "        torch.cuda.synchronize()  # 確保推理完成\n",
    "    x = xy[0]\n",
    "    y = xy[1]\n",
    "    return x, y\n",
    "    "
   ]
  },
  {
   "cell_type": "markdown",
   "id": "declared-korean",
   "metadata": {},
   "source": [
    "## 測試Resnet18\n"
   ]
  },
  {
   "cell_type": "code",
   "execution_count": null,
   "id": "verbal-investigation",
   "metadata": {},
   "outputs": [],
   "source": [
    "# 測試resnet\n",
    "if __name__ == \"__main__\":\n",
    "    image_path = 'test2.jpg'\n",
    "    image = cv2.imread(image_path)\n",
    "    print(image_path)\n",
    "    if image is None:\n",
    "        print(f\"Error: Unable to load image from {image_path}\")\n",
    "    else:\n",
    "        # 將圖像轉換為 NumPy 數組\n",
    "        image_array = np.array(image)\n",
    "        print(f\"Image successfully loaded and converted to NumPy array. Shape: {image_array.shape}\")\n",
    "\n",
    "        height = image_array.shape[0]\n",
    "\n",
    "        # ResNet 推理\n",
    "        x, y = resnet(image_array, height)\n",
    "        if x is not None and y is not None:\n",
    "            print(f\"ResNet prediction: x={x}, y={y}\")\n",
    "        else:\n",
    "            print(\"ResNet inference failed.\")\n"
   ]
  },
  {
   "cell_type": "markdown",
   "id": "eight-feedback",
   "metadata": {},
   "source": [
    "## 準備\n"
   ]
  },
  {
   "cell_type": "code",
   "execution_count": 3,
   "id": "binary-wallpaper",
   "metadata": {},
   "outputs": [],
   "source": [
    "from IPython.display import display\n",
    "import ipywidgets\n",
    "import traitlets\n",
    "from jetbot import Camera, bgr8_to_jpeg\n",
    "\n",
    "camera = Camera(width=224, height=224,fps=9)\n"
   ]
  },
  {
   "cell_type": "code",
   "execution_count": 15,
   "id": "laughing-antigua",
   "metadata": {},
   "outputs": [
    {
     "data": {
      "application/vnd.jupyter.widget-view+json": {
       "model_id": "20715242d5d448b4953a57d74bc53752",
       "version_major": 2,
       "version_minor": 0
      },
      "text/plain": [
       "VBox(children=(Image(value=b'', format='jpg', height='400', width='300'), Label(value='等待路牌資料中~'), Label(value…"
      ]
     },
     "metadata": {},
     "output_type": "display_data"
    }
   ],
   "source": [
    "import requests\n",
    "import ipywidgets.widgets as widgets\n",
    "import ipywidgets as widgets\n",
    "from IPython.display import display\n",
    "from jetbot import Robot, Camera, bgr8_to_jpeg\n",
    "\n",
    "image_widget = widgets.Image(\n",
    "    format='jpg',\n",
    "    width=300,  # 设置图像宽度\n",
    "    height=400,  # 设置图像高度\n",
    ")\n",
    "\n",
    "# 创建标签小部件\n",
    "label_widget = widgets.Label(\n",
    "    value=\"等待路牌資料中~\",  # 设置标签文本\n",
    "    style={'font_size': '50px', 'color': 'blue'}  # 设置标签样式\n",
    ")\n",
    "label_widget2 = widgets.Label(\n",
    "    value=\"等待循線資料中~\",  # 设置标签文本\n",
    "    style={'font_size': '50px', 'color': 'black'}  # 设置标签样式\n",
    ")\n",
    "# 将图像和标签小部件垂直排列\n",
    "vbox = widgets.VBox([image_widget, label_widget,label_widget2])\n",
    "\n",
    "# 显示组合的小部件\n",
    "display(vbox)\n",
    "\n",
    "#-----------設定參數--------------#\n",
    "robot = Robot()\n",
    "robot.motor_driver._pwm.setPWMFreq(80)\n",
    "angle = 0.0\n",
    "angle_last = 0.0\n",
    "integral = 0.0  # 初始化積分項\n",
    "left_motor_value,right_motor_value = 0,0\n",
    "no_move_inter = 0\n",
    "signs = []\n",
    "previous_mse = None\n",
    "last_execution_time = 0\n",
    "start_time = time.time()\n",
    "\n",
    "\n",
    "last_triggered = {\n",
    "    \"Stop\": 0,\n",
    "    \"Stop and Proceed\": 0,\n",
    "    \"Railroad Crossing Warning\": 0,\n",
    "    'Maximum Speed Limit':0,\n",
    "    'Minimum Speed Limit':0,\n",
    "    'Pedestrian Crossing':0,\n",
    "}\n",
    "trigger_interval = 10\n",
    "def analyze_image(image_array):\n",
    "    # 将 NumPy 数组转换为 JPEG 格式\n",
    "    _, image_encoded = cv2.imencode('.jpeg', image_array)\n",
    "    image_bytes = image_encoded.tobytes()  # 转换为字节格式\n",
    "\n",
    "    # 将字节作为文件上传\n",
    "    response = requests.post(\n",
    "        \"http://0.0.0.0:5000/analyze-image\",\n",
    "        files={\"file\": (\"image.jpeg\", image_bytes, \"image/jpeg\")}\n",
    "    )\n",
    "    return response.json()  # 假设 API 返回 JSON 格式的分析结果\n",
    "def update(change):\n",
    "    global no_move_inter,previous_mse\n",
    "    global angle, angle_last,last_triggered\n",
    "    global last_execution_time,start_time\n",
    "    \n",
    "    if time.time()>start_time:\n",
    "        label_widget2.value = \"動作完成中\"\n",
    "        start_time = time.perf_counter()\n",
    "\n",
    "        #-----------不動加速圖片--------------#\n",
    "        image_array = change['new']\n",
    "        old_image =  change['old']\n",
    "        mse = np.sum((image_array - old_image) ** 2) / float(image_array.size)\n",
    "        if mse < 50:\n",
    "            if previous_mse is not None and previous_mse < 50:\n",
    "                no_move_inter += 1  # 保持累加\n",
    "                no_move_inter = min(no_move_inter,200)\n",
    "            else:\n",
    "                no_move_inter = 1   # 重設或初始化\n",
    "        elif mse > 90:\n",
    "            no_move_inter = -300\n",
    "        else:\n",
    "            no_move_inter = 0\n",
    "        previous_mse = mse\n",
    "\n",
    "\n",
    "        #-----------顯示圖片--------------#\n",
    "        #_, encoded_image = cv2.imencode('.jpeg', image_array)\n",
    "        #image_widget.value = encoded_image.tobytes()\n",
    "\n",
    "        #-----------道路追蹤--------------#\n",
    "        height = image_array.shape[0]\n",
    "        x, y = resnet(image_array, height)\n",
    "        x_slider.value = x\n",
    "        y_slider.value = y\n",
    "        \n",
    "        y = y * 0.7\n",
    "        angle = np.arctan2(x, y)\n",
    "\n",
    "        #-----------PID 控制--------------#\n",
    "        \n",
    "        \n",
    "        if angle < 0:\n",
    "            pid = (\n",
    "                angle * steering_gain_slider.value  # P 項\n",
    "                + (angle - angle_last) * steering_dgain_slider.value  # D 項\n",
    "            )\n",
    "            steering_slider.value = pid + steering_left_bias_slider.value  # 如果 angle < 0，添加偏置\n",
    "        else:\n",
    "            pid = (\n",
    "                angle * (steering_gain_slider.value-0.01)  # P 項\n",
    "                + (angle - angle_last) * (steering_dgain_slider.value+0.01)  # D 項\n",
    "            )\n",
    "            steering_slider.value = pid + steering_right_bias_slider.value  # 如果 angle >= 0，減去偏置\n",
    "        \n",
    "        angle_last = angle  # 更新上一個角度\n",
    "        \n",
    "        # 計算馬達值\n",
    "        speed_slider.value = speed_gain_slider.value+(no_move_inter//10)*0.001\n",
    "        right_motor_value = -max(min(speed_slider.value - steering_slider.value, 1.0), 0.0)\n",
    "        left_motor_value = -max(min(speed_slider.value + steering_slider.value, 1.0), 0.0)\n",
    "        #print(speed_gain_slider.value)\n",
    "\n",
    "\n",
    "        #-----------偵測路牌--------------#\n",
    "        signs = []\n",
    "        current_time = time.time()\n",
    "        if current_time - last_execution_time >= 1:\n",
    "            signs = analyze_image(image_array)\n",
    "            print(\"API 結果:\", signs)\n",
    "            # 更新上次執行時間\n",
    "            last_execution_time = current_time\n",
    "            \n",
    "        target = None\n",
    "        if len(signs)>0:\n",
    "            target = signs[0]\n",
    "            if  target[0]>50:\n",
    "                label_widget.value = target\n",
    "            else:\n",
    "                label_widget.value = f\"目前無偵測到路牌\"\n",
    "\n",
    "        else:\n",
    "             label_widget.value = f\"目前無偵測到路牌\"\n",
    "\n",
    "\n",
    "        if target is None :#沒有路牌\n",
    "            robot.left_motor.value = left_motor_value\n",
    "            robot.right_motor.value = right_motor_value\n",
    "            left_motor_slider.value = left_motor_value\n",
    "            right_motor_slider.value = right_motor_value\n",
    "        else:\n",
    "            print(target)\n",
    "            if target[0]>10:\n",
    "                #-----------下個路牌--------------#\n",
    "                if target==\"Stop\" :\n",
    "                    current_time = time.time()\n",
    "                    if current_time - last_triggered[\"Stop\"] > trigger_interval:\n",
    "                        robot.left_motor.value = 0\n",
    "                        robot.right_motor.value = 0\n",
    "                        left_motor_slider.value = 0\n",
    "                        right_motor_slider.value = 0\n",
    "                        label_widget2.value = \"直接停下來\"\n",
    "                        last_triggered[\"Stop\"] = current_time\n",
    "                        start_time = current_time+100\n",
    "                elif target == \"Stop and Proceed\":\n",
    "                    current_time = time.time()\n",
    "                    if current_time - last_triggered[\"Stop and Proceed\"] > trigger_interval:\n",
    "                        robot.left_motor.value = 0\n",
    "                        robot.right_motor.value = 0\n",
    "                        left_motor_slider.value = 0\n",
    "                        right_motor_slider.value = 0\n",
    "                        label_widget2.value = \"正在執行 等待兩秒\"\n",
    "                        start_time = current_time+2\n",
    "                        last_triggered[\"Stop and Proceed\"] = current_time\n",
    "                        \n",
    "\n",
    "                elif target == \"Railroad Crossing Warning\":\n",
    "                    current_time = time.time()\n",
    "                    if current_time - last_triggered[\"Railroad Crossing Warning\"] > trigger_interval:\n",
    "                        robot.left_motor.value = 0\n",
    "                        robot.right_motor.value = 0\n",
    "                        left_motor_slider.value = 0\n",
    "                        right_motor_slider.value = 0\n",
    "                        label_widget2.value = \"正在執行 等待五秒\"\n",
    "                        start_time = current_time+5\n",
    "                        last_triggered[\"Railroad Crossing Warning\"] = current_time\n",
    "                else:# 間隔時間不夠\n",
    "                    robot.left_motor.value = left_motor_value\n",
    "                    robot.right_motor.value = right_motor_value\n",
    "                    left_motor_slider.value = left_motor_value\n",
    "                    right_motor_slider.value = right_motor_value\n",
    "            else:#路牌不夠大\n",
    "                robot.left_motor.value = left_motor_value\n",
    "                robot.right_motor.value = right_motor_value\n",
    "                left_motor_slider.value = left_motor_value\n",
    "                right_motor_slider.value = right_motor_value\n",
    "        end_time = time.perf_counter()\n",
    "        # 計算執行時間（秒）\n",
    "        execution_time = end_time - start_time\n",
    "        label_widget.value = label_widget.value + f\" 程式執行時間: {execution_time:.4f} 秒\"  \n",
    "        "
   ]
  },
  {
   "cell_type": "code",
   "execution_count": 5,
   "id": "imported-profile",
   "metadata": {},
   "outputs": [
    {
     "data": {
      "application/vnd.jupyter.widget-view+json": {
       "model_id": "e013523642cb41399094c61a5fcdb196",
       "version_major": 2,
       "version_minor": 0
      },
      "text/plain": [
       "FloatSlider(value=0.0, description='Left Motor', max=1.0, min=-1.0, step=0.01)"
      ]
     },
     "metadata": {},
     "output_type": "display_data"
    },
    {
     "data": {
      "application/vnd.jupyter.widget-view+json": {
       "model_id": "7876b9327b9e44ed972482f4cde65c6f",
       "version_major": 2,
       "version_minor": 0
      },
      "text/plain": [
       "FloatSlider(value=0.0, description='Right Motor', max=1.0, min=-1.0, step=0.01)"
      ]
     },
     "metadata": {},
     "output_type": "display_data"
    },
    {
     "data": {
      "application/vnd.jupyter.widget-view+json": {
       "model_id": "e82e4708c2034d72a61163c2487be38b",
       "version_major": 2,
       "version_minor": 0
      },
      "text/plain": [
       "FloatSlider(value=0.0, description='Angle', max=3.141592653589793, min=-3.141592653589793, step=0.01)"
      ]
     },
     "metadata": {},
     "output_type": "display_data"
    },
    {
     "data": {
      "application/vnd.jupyter.widget-view+json": {
       "model_id": "efbd7177a5024ae2a6e5b7be02e4b8f2",
       "version_major": 2,
       "version_minor": 0
      },
      "text/plain": [
       "FloatSlider(value=0.0, description='speed gain', max=1.0, step=0.01)"
      ]
     },
     "metadata": {},
     "output_type": "display_data"
    },
    {
     "data": {
      "application/vnd.jupyter.widget-view+json": {
       "model_id": "0642443a941840aa96e796857b2cc7db",
       "version_major": 2,
       "version_minor": 0
      },
      "text/plain": [
       "FloatSlider(value=0.1, description='steering gain', max=1.0, step=0.01)"
      ]
     },
     "metadata": {},
     "output_type": "display_data"
    },
    {
     "data": {
      "application/vnd.jupyter.widget-view+json": {
       "model_id": "e07984ecb5184f49a5e9b13656ad9004",
       "version_major": 2,
       "version_minor": 0
      },
      "text/plain": [
       "FloatSlider(value=0.02, description='steering kd', max=0.5, step=0.001)"
      ]
     },
     "metadata": {},
     "output_type": "display_data"
    },
    {
     "data": {
      "application/vnd.jupyter.widget-view+json": {
       "model_id": "c058996e9fd0482782b2d41939008300",
       "version_major": 2,
       "version_minor": 0
      },
      "text/plain": [
       "FloatSlider(value=0.0, description='steering bias left', max=0.3, min=-0.3, step=0.01)"
      ]
     },
     "metadata": {},
     "output_type": "display_data"
    },
    {
     "data": {
      "application/vnd.jupyter.widget-view+json": {
       "model_id": "101ca20aa0074bc9919bdb59e0003093",
       "version_major": 2,
       "version_minor": 0
      },
      "text/plain": [
       "FloatSlider(value=0.0, description='steering bias right', max=0.3, min=-0.3, step=0.01)"
      ]
     },
     "metadata": {},
     "output_type": "display_data"
    },
    {
     "data": {
      "application/vnd.jupyter.widget-view+json": {
       "model_id": "145a1f36615e4143b2b959816a48812c",
       "version_major": 2,
       "version_minor": 0
      },
      "text/plain": [
       "FloatSlider(value=0.0, description='Steering I Gain', max=1.0, step=0.01)"
      ]
     },
     "metadata": {},
     "output_type": "display_data"
    }
   ],
   "source": [
    "import ipywidgets.widgets as widgets\n",
    "import ipywidgets as widgets\n",
    "from IPython.display import display\n",
    "speed_gain_slider = ipywidgets.FloatSlider(min=0.0, max=1.0, step=0.01, description='speed gain')\n",
    "steering_gain_slider = ipywidgets.FloatSlider(min=0.0, max=1.0, step=0.01, value=0.1, description='steering gain')\n",
    "steering_dgain_slider = ipywidgets.FloatSlider(min=0.0, max=0.5, step=0.001, value=0.02, description='steering kd')\n",
    "steering_left_bias_slider = ipywidgets.FloatSlider(min=-0.3, max=0.3, step=0.01, value=0.0, description='steering bias left')\n",
    "steering_right_bias_slider = ipywidgets.FloatSlider(min=-0.3, max=0.3, step=0.01, value=0.0, description='steering bias right')\n",
    "steering_igain_slider = widgets.FloatSlider(\n",
    "    min=0.0, max=1.0, step=0.01, value=0.00, description='Steering I Gain'\n",
    ")\n",
    "left_motor_slider = widgets.FloatSlider(min=-1.0, max=1.0, step=0.01, description='Left Motor')\n",
    "right_motor_slider = widgets.FloatSlider(min=-1.0, max=1.0, step=0.01, description='Right Motor')\n",
    "angle_slider = widgets.FloatSlider(min=-np.pi, max=np.pi, step=0.01, description='Angle')\n",
    "display(left_motor_slider, right_motor_slider, angle_slider)\n",
    "display(speed_gain_slider, steering_gain_slider, steering_dgain_slider, steering_left_bias_slider,steering_right_bias_slider,steering_igain_slider)"
   ]
  },
  {
   "cell_type": "code",
   "execution_count": 6,
   "id": "inappropriate-strain",
   "metadata": {},
   "outputs": [
    {
     "data": {
      "application/vnd.jupyter.widget-view+json": {
       "model_id": "3c202f7237a045b88925ad12141cccc0",
       "version_major": 2,
       "version_minor": 0
      },
      "text/plain": [
       "HBox(children=(FloatSlider(value=0.0, description='y', max=1.0, orientation='vertical'), FloatSlider(value=0.0…"
      ]
     },
     "metadata": {},
     "output_type": "display_data"
    },
    {
     "data": {
      "application/vnd.jupyter.widget-view+json": {
       "model_id": "14ca766ee8a44ee6863a6ab3a63b47f4",
       "version_major": 2,
       "version_minor": 0
      },
      "text/plain": [
       "FloatSlider(value=0.0, description='x', max=1.0, min=-1.0)"
      ]
     },
     "metadata": {},
     "output_type": "display_data"
    },
    {
     "data": {
      "application/vnd.jupyter.widget-view+json": {
       "model_id": "f20c792ab8084a62b34f3705fd19ca54",
       "version_major": 2,
       "version_minor": 0
      },
      "text/plain": [
       "FloatSlider(value=0.0, description='steering', max=1.0, min=-1.0, step=0.01)"
      ]
     },
     "metadata": {},
     "output_type": "display_data"
    }
   ],
   "source": [
    "x_slider = ipywidgets.FloatSlider(min=-1.0, max=1.0, description='x')\n",
    "y_slider = ipywidgets.FloatSlider(min=0, max=1.0, orientation='vertical', description='y')\n",
    "steering_slider = ipywidgets.FloatSlider(min=-1.0, max=1.0, step=0.01 ,description='steering')\n",
    "speed_slider = ipywidgets.FloatSlider(min=0, max=1.0, step=0.001, orientation='vertical', description='speed')\n",
    "display(ipywidgets.HBox([y_slider, speed_slider]))\n",
    "display(x_slider, steering_slider)"
   ]
  },
  {
   "cell_type": "code",
   "id": "light-folks",
   "metadata": {},
   "source": [
    "import time\n",
    "camera.observe(update, names='value')"
   ],
   "outputs": [],
   "execution_count": null
  },
  {
   "cell_type": "code",
   "execution_count": null,
   "id": "empty-cream",
   "metadata": {},
   "outputs": [],
   "source": [
    "camera.stop()"
   ]
  },
  {
   "cell_type": "code",
   "id": "changing-pavilion",
   "metadata": {},
   "source": [
    "import time\n",
    "\n",
    "camera.unobserve(update, names='value')\n",
    "\n",
    "time.sleep(0.1)  # add a small sleep to make sure frames have finished processing\n",
    "\n",
    "robot.stop()"
   ],
   "outputs": [],
   "execution_count": null
  },
  {
   "cell_type": "code",
   "execution_count": null,
   "id": "intellectual-detail",
   "metadata": {},
   "outputs": [],
   "source": []
  }
 ],
 "metadata": {
  "kernelspec": {
   "display_name": "Python 3 (ipykernel)",
   "language": "python",
   "name": "python3"
  },
  "language_info": {
   "codemirror_mode": {
    "name": "ipython",
    "version": 3
   },
   "file_extension": ".py",
   "mimetype": "text/x-python",
   "name": "python",
   "nbconvert_exporter": "python",
   "pygments_lexer": "ipython3",
   "version": "3.6.9"
  }
 },
 "nbformat": 4,
 "nbformat_minor": 5
}
