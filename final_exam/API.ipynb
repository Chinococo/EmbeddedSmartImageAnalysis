{
 "cells": [
  {
   "cell_type": "code",
   "execution_count": 1,
   "id": "suspected-update",
   "metadata": {},
   "outputs": [],
   "source": [
    "from IPython.display import display\n",
    "import ipywidgets\n",
    "import traitlets\n",
    "from jetbot import Camera, bgr8_to_jpeg\n",
    "\n",
    "camera = Camera()\n"
   ]
  },
  {
   "cell_type": "code",
   "execution_count": 8,
   "id": "independent-croatia",
   "metadata": {},
   "outputs": [
    {
     "name": "stdout",
     "output_type": "stream",
     "text": [
      "Response status code: 200\n",
      "Decoded response content: 抱歉，我無法分析或識別這張圖片的內容。\n"
     ]
    }
   ],
   "source": [
    "import numpy as np\n",
    "from PIL import Image\n",
    "\n",
    "def update(change):\n",
    "    image_array = change.get('new')\n",
    "    if image_array is None or not isinstance(image_array, np.ndarray):\n",
    "        print(\"Error: 'new' 必須是一個 NumPy 陣列。\")\n",
    "        return\n",
    "\n",
    "    try:\n",
    "        # 確保數據範圍\n",
    "        if image_array.max() > 1.0:\n",
    "            image_array = image_array / 255.0\n",
    "        image_array = np.clip(image_array, 0, 1)\n",
    "\n",
    "        # 檢查並修正顏色通道順序 (BGR -> RGB)\n",
    "        if image_array.shape[2] == 3:  # 確保有三個通道\n",
    "            image_array = image_array[:, :, ::-1]  # 反轉通道順序\n",
    "\n",
    "        # 將 NumPy 陣列轉換為 PIL Image\n",
    "        image = Image.fromarray((image_array * 255).astype(np.uint8))\n",
    "        image.save(\"now.jpg\", format=\"JPEG\")\n",
    "        with open(\"now.jpg\", \"rb\") as image_file:\n",
    "            # Send the POST request with the file\n",
    "            response = requests.post(\n",
    "                \"https://openai.chinococo.tw/analyze-image\",\n",
    "                files={\"file\": image_file}  # Key \"file\" is commonly expected by servers\n",
    "            )\n",
    "        response_content = response.content.decode('utf-8')  # Decode the raw bytes\n",
    "        try:\n",
    "            # Parse JSON response\n",
    "            response_json = json.loads(response_content)\n",
    "            # Extract and print the \"result\" field\n",
    "            result_text = response_json.get(\"result\", \"No result found\")\n",
    "            print(\"Response status code:\", response.status_code)\n",
    "            print(\"Decoded response content:\", result_text)\n",
    "        except json.JSONDecodeError:\n",
    "            print(\"Failed to parse JSON response\")\n",
    "            print(\"Raw response content:\", response_content)\n",
    "\n",
    "    except Exception as e:\n",
    "        print(f\"Error: 無法將 NumPy 陣列轉換為圖片 - {e}\")\n",
    "\n",
    "# 測試例子\n",
    "example_array = np.random.rand(224, 224, 3)  # 模擬一個隨機 RGB 圖片\n",
    "update({\"new\": example_array})\n"
   ]
  },
  {
   "cell_type": "code",
   "execution_count": null,
   "id": "stopped-thursday",
   "metadata": {},
   "outputs": [
    {
     "name": "stdout",
     "output_type": "stream",
     "text": [
      "Response status code: 200\n",
      "Decoded response content: 抱歉，我無法分析圖片內容或路牌標示。你可以描述圖片，我會根據描述提供幫助。\n",
      "Response status code: 200\n",
      "Decoded response content: 抱歉，我無法分析或描述圖片中的內容。若有其他問題或需要的幫助，請告訴我！\n",
      "Response status code: 200\n",
      "Decoded response content: 抱歉，我無法分析這張圖片的內容。\n",
      "Response status code: 200\n",
      "Decoded response content: 圖片中顯示的路牌是一個警告標誌，標誌上有一個行人，顯示這是一個有行人穿越的地方的提示。這通常用於提醒駕駛者注意行人，以確保行人的安全。該標誌通常呈現三角形，背景為白色，邊框和行人圖案為黑色或紅色。\n"
     ]
    }
   ],
   "source": [
    "while(1):\n",
    "    import time\n",
    "    # 測試執行速度\n",
    "    update({'new': camera.value})\n",
    "    time.sleep(10)\n"
   ]
  },
  {
   "cell_type": "code",
   "execution_count": null,
   "id": "russian-alert",
   "metadata": {},
   "outputs": [],
   "source": [
    "camera.stop()"
   ]
  },
  {
   "cell_type": "code",
   "execution_count": null,
   "id": "structural-affiliate",
   "metadata": {},
   "outputs": [],
   "source": []
  }
 ],
 "metadata": {
  "kernelspec": {
   "display_name": "Python 3",
   "language": "python",
   "name": "python3"
  },
  "language_info": {
   "codemirror_mode": {
    "name": "ipython",
    "version": 3
   },
   "file_extension": ".py",
   "mimetype": "text/x-python",
   "name": "python",
   "nbconvert_exporter": "python",
   "pygments_lexer": "ipython3",
   "version": "3.6.9"
  }
 },
 "nbformat": 4,
 "nbformat_minor": 5
}
